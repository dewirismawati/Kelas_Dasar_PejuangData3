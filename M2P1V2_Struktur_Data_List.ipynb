{
  "nbformat": 4,
  "nbformat_minor": 0,
  "metadata": {
    "colab": {
      "name": "Untitled1.ipynb",
      "provenance": [],
      "collapsed_sections": []
    },
    "kernelspec": {
      "display_name": "Python 3",
      "name": "python3"
    },
    "language_info": {
      "name": "python"
    }
  },
  "cells": [
    {
      "cell_type": "markdown",
      "metadata": {
        "id": "PyX-TbDjTa2C"
      },
      "source": [
        "# List"
      ]
    },
    {
      "cell_type": "markdown",
      "metadata": {
        "id": "YYe1iqguU6cN"
      },
      "source": [
        "List adalah jenis kumpulan data terurut(ordered squence), dan merupakan salah satu variabel yang sering digunakan pada Python. Serupa, tapi tak sama dengan array pada bahasa pemrograman lainnya. Bedanya, elemen List Pada Python tidak harus memiliki tipe data yang sama. Mendeklarasikan List cukup mudah dengan kurung siku dan elemen yang dipisahkan dengan koma. \n",
        "\n",
        "setiap data di dalamnya dapat diakses dengan indeks yang dimulai dari 0."
      ]
    },
    {
      "cell_type": "code",
      "metadata": {
        "colab": {
          "base_uri": "https://localhost:8080/"
        },
        "id": "qAK0eG8pkW49",
        "outputId": "fed4e667-cdf4-44d5-92d1-aaa62c75aee4"
      },
      "source": [
        "# Contoh List\n",
        "L1 = [1,4,2,13]\n",
        "\n",
        "print(type(L1))"
      ],
      "execution_count": 48,
      "outputs": [
        {
          "output_type": "stream",
          "name": "stdout",
          "text": [
            "<class 'list'>\n"
          ]
        }
      ]
    },
    {
      "cell_type": "code",
      "metadata": {
        "colab": {
          "base_uri": "https://localhost:8080/"
        },
        "id": "5XMol_uYkt_U",
        "outputId": "f8cf1bd6-9252-490d-8ace-c1736f3c1c35"
      },
      "source": [
        "L2 = [\"a\",\"Python\",3]\n",
        "L2"
      ],
      "execution_count": 49,
      "outputs": [
        {
          "output_type": "execute_result",
          "data": {
            "text/plain": [
              "['a', 'Python', 3]"
            ]
          },
          "metadata": {},
          "execution_count": 49
        }
      ]
    },
    {
      "cell_type": "code",
      "metadata": {
        "colab": {
          "base_uri": "https://localhost:8080/"
        },
        "id": "NXYgpJdIlyn2",
        "outputId": "c0022dcc-47ec-44ed-f66d-cd5244af0969"
      },
      "source": [
        "print(L1)\n",
        "print(L2)"
      ],
      "execution_count": 50,
      "outputs": [
        {
          "output_type": "stream",
          "name": "stdout",
          "text": [
            "[1, 4, 2, 13]\n",
            "['a', 'Python', 3]\n"
          ]
        }
      ]
    },
    {
      "cell_type": "markdown",
      "metadata": {
        "id": "PZ313ktZmBXQ"
      },
      "source": [
        "Latihan 1"
      ]
    },
    {
      "cell_type": "code",
      "metadata": {
        "colab": {
          "base_uri": "https://localhost:8080/"
        },
        "id": "cefuvmmJl_g_",
        "outputId": "52b56ecb-2d8f-42c7-d71e-4fa38728b715"
      },
      "source": [
        "# Buatlah List kalian sendiri\n",
        "Repackage1 = [\"hot sauce\",\"hello future\",\"life is still going on\",3]\n",
        "\n",
        "print(type(Repackage1))"
      ],
      "execution_count": 51,
      "outputs": [
        {
          "output_type": "stream",
          "name": "stdout",
          "text": [
            "<class 'list'>\n"
          ]
        }
      ]
    },
    {
      "cell_type": "code",
      "metadata": {
        "id": "TQTcOuMXnBf9",
        "colab": {
          "base_uri": "https://localhost:8080/"
        },
        "outputId": "2eca2b0e-8238-44f4-a896-6a7b9f8337ea"
      },
      "source": [
        "Comeback127 = [\"sticker\",\"lemonade\",\"road trip\",\"breakfast\",\"focus\",5]\n",
        "Comeback127"
      ],
      "execution_count": 52,
      "outputs": [
        {
          "output_type": "execute_result",
          "data": {
            "text/plain": [
              "['sticker', 'lemonade', 'road trip', 'breakfast', 'focus', 5]"
            ]
          },
          "metadata": {},
          "execution_count": 52
        }
      ]
    },
    {
      "cell_type": "code",
      "metadata": {
        "id": "y979Y31Un4bv",
        "colab": {
          "base_uri": "https://localhost:8080/"
        },
        "outputId": "4235d00e-a940-4fd0-b2f9-8bedea951868"
      },
      "source": [
        "print(Repackage1)\n",
        "print(Comeback127)"
      ],
      "execution_count": 53,
      "outputs": [
        {
          "output_type": "stream",
          "name": "stdout",
          "text": [
            "['hot sauce', 'hello future', 'life is still going on', 3]\n",
            "['sticker', 'lemonade', 'road trip', 'breakfast', 'focus', 5]\n"
          ]
        }
      ]
    },
    {
      "cell_type": "markdown",
      "metadata": {
        "id": "CYkqaRo7oqBV"
      },
      "source": [
        "Indeks di Python(List,Tupel) mulai dari 0"
      ]
    },
    {
      "cell_type": "code",
      "metadata": {
        "colab": {
          "base_uri": "https://localhost:8080/"
        },
        "id": "HZPfub-JpEue",
        "outputId": "9b786b46-22e7-457c-eca9-897ff7130603"
      },
      "source": [
        "# sifat-sifat List\n",
        "\n",
        "# Terurut/Ordered\n",
        "print(\"Memanggil List L1 dengan indeks urutan:\",L1[0:3])\n",
        "\n",
        "# Bisa diganti/Mutable\n",
        "L1[1] = 2\n",
        "print(\"List L1 setelah diganti elemennya:\",L1)\n",
        "\n",
        "# Dapat diindeks/Slicing\n",
        "L1 = [1,\"dua\",True,2+3j]\n",
        "print(\"Slicing List L1:\",L1[3])\n",
        "\n",
        "# Dapat Diijinkan Duplikasi\n",
        "L1 = [1,\"dua\",True,2+3j,2+3j]\n",
        "print(\"Duplikasi pada List:\",L1)"
      ],
      "execution_count": 57,
      "outputs": [
        {
          "output_type": "stream",
          "name": "stdout",
          "text": [
            "Memanggil List L1 dengan indeks urutan: [1, 2, 2]\n",
            "List L1 setelah diganti elemennya: [1, 2, 2, 13]\n",
            "Slicing List L1: (2+3j)\n",
            "Duplikasi pada List: [1, 'dua', True, (2+3j), (2+3j)]\n"
          ]
        }
      ]
    },
    {
      "cell_type": "markdown",
      "metadata": {
        "id": "-loQWEmMQFf4"
      },
      "source": [
        "Latihan 2"
      ]
    },
    {
      "cell_type": "code",
      "metadata": {
        "colab": {
          "base_uri": "https://localhost:8080/"
        },
        "id": "3rhsj4ewuozQ",
        "outputId": "95ff9538-2dd3-476c-ef37-3844c060c5e9"
      },
      "source": [
        "# Ganti elemen yang ada pada List yang kalian buat\n",
        "\n",
        "#Terurut/Ordered\n",
        "print(\"Memanggil List Repackage1 dengan indeks urutan:\",Repackage1[0:3])\n",
        "print(\"Memanggil List Comeback127 dengan indeks urutan:\",Comeback127[0:5])\n",
        "print('-'*20)\n",
        "\n",
        "# Bisa Diganti/Mutable\n",
        "Repackage1[1]    = \"dive into you\"\n",
        "Comeback127[3]   = \"promise you\"\n",
        "print(\"List Repackage1 setelah diganti elemennya:\",Repackage1)\n",
        "print(\"List Comeback127 setelah diganti elemennya:\",Comeback127)\n",
        "print('-'*20)\n",
        "\n",
        "# Dapat diindeks/slicing\n",
        "Repackage1  = [2,\"boom\",\"we go up\",3+4j]\n",
        "Comeback127 = [3,\"kick it\",\"white night\",\"sit down\",2+3j]\n",
        "print(\"Slicing List Repackage1:\",Repackage1[2])\n",
        "print(\"Slicing List Comeback127:\",Comeback127[3])\n",
        "print('-'*20)\n",
        "\n",
        "# Dapat Diijinkan Duplikasi\n",
        "Repackage1  = [2,\"boom\",\"boom\",\"we go up\",3+4j]\n",
        "Comeback127 = [3,\"kick it\",\"white night\",\"sit down\",2+3j,2+3j]\n",
        "print(\"Duplikasi List Repackage1:\",Repackage1)\n",
        "print(\"Duplikasi List Comeback127:\",Comeback127)"
      ],
      "execution_count": 60,
      "outputs": [
        {
          "output_type": "stream",
          "name": "stdout",
          "text": [
            "Memanggil List Repackage1 dengan indeks urutan: [2, 'boom', 'we go up']\n",
            "Memanggil List Comeback127 dengan indeks urutan: [3, 'kick it', 'white night', 'sit down', (2+3j)]\n",
            "--------------------\n",
            "List Repackage1 setelah diganti elemennya: [2, 'dive into you', 'we go up', (3+4j)]\n",
            "List Comeback127 setelah diganti elemennya: [3, 'kick it', 'white night', 'promise you', (2+3j)]\n",
            "--------------------\n",
            "Slicing List Repackage1: we go up\n",
            "Slicing List Comeback127: sit down\n",
            "--------------------\n",
            "Duplikasi List Repackage1: [2, 'boom', 'boom', 'we go up', (3+4j)]\n",
            "Duplikasi List Comeback127: [3, 'kick it', 'white night', 'sit down', (2+3j), (2+3j)]\n"
          ]
        }
      ]
    }
  ]
}