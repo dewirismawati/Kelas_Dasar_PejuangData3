{
  "nbformat": 4,
  "nbformat_minor": 0,
  "metadata": {
    "colab": {
      "name": "M4P1V4_Penggabungan_DataFrame.ipynb",
      "provenance": [],
      "collapsed_sections": []
    },
    "kernelspec": {
      "name": "python3",
      "display_name": "Python 3"
    },
    "language_info": {
      "name": "python"
    }
  },
  "cells": [
    {
      "cell_type": "markdown",
      "metadata": {
        "id": "fzNWdVxd2KHz"
      },
      "source": [
        "# Penggabungan Series/Dataframe"
      ]
    },
    {
      "cell_type": "markdown",
      "metadata": {
        "id": "UxntLUSu2Ucp"
      },
      "source": [
        "Terdapat beberapa metode untuk menggabungkan Series/Dataframe di Pandas, yaitu:\n",
        "\n",
        "1.  append\n",
        "2.  concat\n",
        "3.  merge\n",
        "4.  join"
      ]
    },
    {
      "cell_type": "markdown",
      "metadata": {
        "id": "L1d84VTt2i2k"
      },
      "source": [
        "# Import Library\n",
        "Import beberapa library berikut untuk digunakan di sepanjang notebook ini:"
      ]
    },
    {
      "cell_type": "code",
      "metadata": {
        "id": "OqdcstK-3ENy"
      },
      "source": [
        "import pandas as pd"
      ],
      "execution_count": 3,
      "outputs": []
    },
    {
      "cell_type": "markdown",
      "metadata": {
        "id": "rUaI7SOk2oBE"
      },
      "source": [
        "# Append\n",
        "Method **.append()** dapat digunakan pada dataframe/series yang ditujukan untuk menambah row-nya saja."
      ]
    },
    {
      "cell_type": "code",
      "metadata": {
        "colab": {
          "base_uri": "https://localhost:8080/"
        },
        "id": "_MXlGnzm0uFS",
        "outputId": "2a60a093-36eb-471c-8c4c-20cc13bd17de"
      },
      "source": [
        "# Membuat series of int (s1) dan series of string (s2)\n",
        "s1 = pd.Series([1,2,3,4,5,6])\n",
        "s2 = pd.Series([\"a\",\"b\",\"c\",\"d\",\"e\",\"f\"])\n",
        "# Menerapkan method append\n",
        "s1_append_s2 = s1.append(s2)\n",
        "print(\"Series - append:\\n\", s1_append_s2)"
      ],
      "execution_count": 4,
      "outputs": [
        {
          "output_type": "stream",
          "name": "stdout",
          "text": [
            "Series - append:\n",
            " 0    1\n",
            "1    2\n",
            "2    3\n",
            "3    4\n",
            "4    5\n",
            "5    6\n",
            "0    a\n",
            "1    b\n",
            "2    c\n",
            "3    d\n",
            "4    e\n",
            "5    f\n",
            "dtype: object\n"
          ]
        }
      ]
    },
    {
      "cell_type": "markdown",
      "metadata": {
        "id": "jk4Dsx3V6RM7"
      },
      "source": [
        "Untuk **Dataframe**"
      ]
    },
    {
      "cell_type": "code",
      "metadata": {
        "colab": {
          "base_uri": "https://localhost:8080/"
        },
        "id": "A5KNnKLc6ZWy",
        "outputId": "0928dfed-795a-405d-a52f-f92b87f4e2c8"
      },
      "source": [
        "# Buat dataframe df1 dan df2\n",
        "df1 = pd.DataFrame({'a':[1,2],\n",
        "                    'b':[3,4]})\n",
        "print(\"df1:\\n\", df1)\n",
        "df2 = pd.DataFrame({'b':[1,2],\n",
        "                    'a':[3,4]})\n",
        "print(\"df2:\\n\", df2)\n",
        "# Terapkan method append\n",
        "df1_append_df2 = df1.append(df2)\n",
        "print(\"Dataframe - append:\\n\", df1_append_df2)"
      ],
      "execution_count": 5,
      "outputs": [
        {
          "output_type": "stream",
          "name": "stdout",
          "text": [
            "df1:\n",
            "    a  b\n",
            "0  1  3\n",
            "1  2  4\n",
            "df2:\n",
            "    b  a\n",
            "0  1  3\n",
            "1  2  4\n",
            "Dataframe - append:\n",
            "    a  b\n",
            "0  1  3\n",
            "1  2  4\n",
            "0  3  1\n",
            "1  4  2\n"
          ]
        }
      ]
    },
    {
      "cell_type": "markdown",
      "metadata": {
        "id": "TK5I0bhJ64bu"
      },
      "source": [
        "Concat\n",
        "Method **.concat()** dapat digunakan pada dataframe yang ditujukan untuk penggabungan baik dalam row-wise (dalam arah ) atau column-wise."
      ]
    },
    {
      "cell_type": "code",
      "metadata": {
        "colab": {
          "base_uri": "https://localhost:8080/"
        },
        "id": "oA3hHWFm6yYR",
        "outputId": "1d231ef0-b5b8-40f9-c32d-901f1e2a01ff"
      },
      "source": [
        "# Membuat dataframe df1 dan df2\n",
        "df1 = pd.DataFrame({'a':[1,2],\n",
        "                    'b':[3,4]})\n",
        "print(\"df1:\\n\", df1)\n",
        "df2 = pd.DataFrame({'b':[1,2],\n",
        "                    'a':[3,4]})\n",
        "print(\"df2:\\n\", df2)\n",
        "# Menerapkan method concat row-wise\n",
        "row_wise_concat = pd.concat([df1,df2])\n",
        "print(\"Row-wise - concat:\\n\", row_wise_concat)"
      ],
      "execution_count": 6,
      "outputs": [
        {
          "output_type": "stream",
          "name": "stdout",
          "text": [
            "df1:\n",
            "    a  b\n",
            "0  1  3\n",
            "1  2  4\n",
            "df2:\n",
            "    b  a\n",
            "0  1  3\n",
            "1  2  4\n",
            "Row-wise - concat:\n",
            "    a  b\n",
            "0  1  3\n",
            "1  2  4\n",
            "0  3  1\n",
            "1  4  2\n"
          ]
        }
      ]
    },
    {
      "cell_type": "markdown",
      "metadata": {
        "id": "TkKZrZFMB6MF"
      },
      "source": [
        "Untuk penerapan concat pada **column-wise**"
      ]
    },
    {
      "cell_type": "code",
      "metadata": {
        "colab": {
          "base_uri": "https://localhost:8080/"
        },
        "id": "tltBgCAA61SD",
        "outputId": "18969723-b13f-4b7c-9a5b-24d4d6fc1860"
      },
      "source": [
        "# Terapkan method concat column-wise\n",
        "col_wise_concat = pd.concat([df1, df2], axis=1)\n",
        "print(\"Column-wise - concat:\\n\", col_wise_concat)"
      ],
      "execution_count": 7,
      "outputs": [
        {
          "output_type": "stream",
          "name": "stdout",
          "text": [
            "Column-wise - concat:\n",
            "    a  b  b  a\n",
            "0  1  3  1  3\n",
            "1  2  4  2  4\n"
          ]
        }
      ]
    },
    {
      "cell_type": "markdown",
      "metadata": {
        "id": "vyodbbD7CUvR"
      },
      "source": [
        "Dapat juga menambahkan identifier dari dataframe untuk data yang ditambahkan"
      ]
    },
    {
      "cell_type": "code",
      "metadata": {
        "colab": {
          "base_uri": "https://localhost:8080/"
        },
        "id": "9soapkthCi3B",
        "outputId": "b4db4bfa-c46e-4b37-d643-1b454bfedefd"
      },
      "source": [
        "# Penambahan identifier --> membentuh hasil penggabungan multiindex\n",
        "multiindex_concat = pd.concat([df1,df2],axis=0,keys=['df1','df2'])\n",
        "print(\"Multiindex - concat:\\n\", multiindex_concat)"
      ],
      "execution_count": 8,
      "outputs": [
        {
          "output_type": "stream",
          "name": "stdout",
          "text": [
            "Multiindex - concat:\n",
            "        a  b\n",
            "df1 0  1  3\n",
            "    1  2  4\n",
            "df2 0  3  1\n",
            "    1  4  2\n"
          ]
        }
      ]
    },
    {
      "cell_type": "markdown",
      "metadata": {
        "id": "TRay03juDTJ4"
      },
      "source": [
        "# Merge\n",
        "Method .merge() untuk menggabungkan Series/Dataframe yang bentuknya mirip dengan syntax join di SQL, specify left and right tables, join key dan how to join (left, right, inner, full outer)."
      ]
    },
    {
      "cell_type": "code",
      "metadata": {
        "colab": {
          "base_uri": "https://localhost:8080/"
        },
        "id": "4OIKOiwyDSTT",
        "outputId": "0a37593e-eac1-47ba-85d8-afb39866ec59"
      },
      "source": [
        "# Membuat dataframe df1 dan df2\n",
        "df1 = pd.DataFrame({\n",
        "   'key':['k1','k2','k3','k4','k5'],\n",
        "   'val1':[200, 500, 0, 500, 100],\n",
        "   'val2':[30, 50, 100, 20, 10]\n",
        "})\n",
        "print(\"df1:\\n\", df1)\n",
        "df2 = pd.DataFrame({\n",
        "   'key':['k1','k3','k5','k7','k10'],\n",
        "   'val3':[1,2,3,4,5],\n",
        "   'val4':[6,7,8,8,10]\n",
        "})\n",
        "print(\"df2:\\n\", df2)"
      ],
      "execution_count": 9,
      "outputs": [
        {
          "output_type": "stream",
          "name": "stdout",
          "text": [
            "df1:\n",
            "   key  val1  val2\n",
            "0  k1   200    30\n",
            "1  k2   500    50\n",
            "2  k3     0   100\n",
            "3  k4   500    20\n",
            "4  k5   100    10\n",
            "df2:\n",
            "    key  val3  val4\n",
            "0   k1     1     6\n",
            "1   k3     2     7\n",
            "2   k5     3     8\n",
            "3   k7     4     8\n",
            "4  k10     5    10\n"
          ]
        }
      ]
    },
    {
      "cell_type": "markdown",
      "metadata": {
        "id": "PwlTQZ9IMxud"
      },
      "source": [
        "pd.merge yang ekivalen dengan SQL **left join**"
      ]
    },
    {
      "cell_type": "code",
      "metadata": {
        "colab": {
          "base_uri": "https://localhost:8080/"
        },
        "id": "O7vwyJGfM2zx",
        "outputId": "efeb98d0-7f06-49d6-87dd-b4034a75964c"
      },
      "source": [
        "# Merge yang ekivalen dengan SQL left join\n",
        "merge_df_left = pd.merge(left=df1, right=df2, how='left', left_on='key',right_on='key')\n",
        "print('Merge - Left:\\n', merge_df_left)"
      ],
      "execution_count": 10,
      "outputs": [
        {
          "output_type": "stream",
          "name": "stdout",
          "text": [
            "Merge - Left:\n",
            "   key  val1  val2  val3  val4\n",
            "0  k1   200    30   1.0   6.0\n",
            "1  k2   500    50   NaN   NaN\n",
            "2  k3     0   100   2.0   7.0\n",
            "3  k4   500    20   NaN   NaN\n",
            "4  k5   100    10   3.0   8.0\n"
          ]
        }
      ]
    },
    {
      "cell_type": "markdown",
      "metadata": {
        "id": "cFZqgZmrNHP7"
      },
      "source": [
        "pd.merge yang ekivalen dengan SQL **right join**"
      ]
    },
    {
      "cell_type": "code",
      "metadata": {
        "colab": {
          "base_uri": "https://localhost:8080/"
        },
        "id": "UX9Lp5iCNOT0",
        "outputId": "81509391-4923-4cb5-e3f5-4e39602534af"
      },
      "source": [
        "# Merge yang ekivalen dengan SQL right join\n",
        "merge_df_right = pd.merge(left=df1, right=df2, how='right', left_on='key',right_on='key')\n",
        "print('Merge - Right:\\n', merge_df_right)"
      ],
      "execution_count": 11,
      "outputs": [
        {
          "output_type": "stream",
          "name": "stdout",
          "text": [
            "Merge - Right:\n",
            "    key   val1   val2  val3  val4\n",
            "0   k1  200.0   30.0     1     6\n",
            "1   k3    0.0  100.0     2     7\n",
            "2   k5  100.0   10.0     3     8\n",
            "3   k7    NaN    NaN     4     8\n",
            "4  k10    NaN    NaN     5    10\n"
          ]
        }
      ]
    },
    {
      "cell_type": "markdown",
      "metadata": {
        "id": "Z9UH0WSPN0L1"
      },
      "source": [
        "pd.merge yang ekivalen dengan SQL **inner join**"
      ]
    },
    {
      "cell_type": "code",
      "metadata": {
        "colab": {
          "base_uri": "https://localhost:8080/"
        },
        "id": "JFki8pMAN42s",
        "outputId": "9e1d1526-0351-45e4-c1ec-3f489fe96d4f"
      },
      "source": [
        "# Merge yang ekivalen dengan SQL inner join\n",
        "merge_df_inner = pd.merge(left=df1, right=df2, how='inner', left_on='key',right_on='key')\n",
        "print('Merge - Inner:\\n', merge_df_inner)"
      ],
      "execution_count": 12,
      "outputs": [
        {
          "output_type": "stream",
          "name": "stdout",
          "text": [
            "Merge - Inner:\n",
            "   key  val1  val2  val3  val4\n",
            "0  k1   200    30     1     6\n",
            "1  k3     0   100     2     7\n",
            "2  k5   100    10     3     8\n"
          ]
        }
      ]
    },
    {
      "cell_type": "markdown",
      "metadata": {
        "id": "zYs8Gv85PQOq"
      },
      "source": [
        "\n",
        "pd.merge yang ekivalen dengan SQL **outer join**"
      ]
    },
    {
      "cell_type": "code",
      "metadata": {
        "colab": {
          "base_uri": "https://localhost:8080/"
        },
        "id": "Mg1tWFo0PVL-",
        "outputId": "a4888892-e6e2-4fa6-f5b8-873cd50a36c6"
      },
      "source": [
        "# Merge yang ekivalen dengan SQL outer join\n",
        "merge_df_outer = pd.merge(left=df1, right=df2, how='outer', left_on='key',right_on='key')\n",
        "print('Merge - Outer:\\n', merge_df_outer)"
      ],
      "execution_count": 13,
      "outputs": [
        {
          "output_type": "stream",
          "name": "stdout",
          "text": [
            "Merge - Outer:\n",
            "    key   val1   val2  val3  val4\n",
            "0   k1  200.0   30.0   1.0   6.0\n",
            "1   k2  500.0   50.0   NaN   NaN\n",
            "2   k3    0.0  100.0   2.0   7.0\n",
            "3   k4  500.0   20.0   NaN   NaN\n",
            "4   k5  100.0   10.0   3.0   8.0\n",
            "5   k7    NaN    NaN   4.0   8.0\n",
            "6  k10    NaN    NaN   5.0  10.0\n"
          ]
        }
      ]
    },
    {
      "cell_type": "markdown",
      "metadata": {
        "id": "uq9HIe9sPcaX"
      },
      "source": [
        "Bagaimana jika salah satu dataframe atau keseluruhan dataframe yang akan digabungkan tersebut memiliki multiindex?"
      ]
    },
    {
      "cell_type": "code",
      "metadata": {
        "colab": {
          "base_uri": "https://localhost:8080/"
        },
        "id": "UrdxJSOcPivI",
        "outputId": "4a550a12-814c-41b9-fd80-a83ac12088fc"
      },
      "source": [
        "# Membuat dataframe df1 dan df2\n",
        "df1 = pd.DataFrame({\n",
        "   'key':['k1','k2','k3','k4','k5'],\n",
        "   'val1':[200, 500, 0, 500, 100],\n",
        "   'val2':[30, 50, 100, 20, 10]\n",
        "}).set_index(['key','val2'])\n",
        "print('Dataframe 1:\\n', df1)\n",
        "df2 = pd.DataFrame({\n",
        "   'key':['k1','k3','k5','k7','k10'],\n",
        "   'val3':[1,2,3,4,5],\n",
        "   'val4':[6,7,8,8,10]\n",
        "}).set_index(['key','val3'])\n",
        "print('Dataframe 2:\\n', df2)"
      ],
      "execution_count": 14,
      "outputs": [
        {
          "output_type": "stream",
          "name": "stdout",
          "text": [
            "Dataframe 1:\n",
            "           val1\n",
            "key val2      \n",
            "k1  30     200\n",
            "k2  50     500\n",
            "k3  100      0\n",
            "k4  20     500\n",
            "k5  10     100\n",
            "Dataframe 2:\n",
            "           val4\n",
            "key val3      \n",
            "k1  1        6\n",
            "k3  2        7\n",
            "k5  3        8\n",
            "k7  4        8\n",
            "k10 5       10\n"
          ]
        }
      ]
    },
    {
      "cell_type": "markdown",
      "metadata": {
        "id": "O5HOPnwcQHTl"
      },
      "source": [
        "Jika digabungkan secara langsung seperti yang telah dilakukan pada bagian sebelumnya"
      ]
    },
    {
      "cell_type": "code",
      "metadata": {
        "id": "lI_Cy1ROQUhR"
      },
      "source": [
        "# Merge dataframe yang memiliki multi index\n",
        "# df_merge = pd.merge(df1,df2)\n",
        "# print('Merging dataframe:\\n', df_merge)"
      ],
      "execution_count": 15,
      "outputs": []
    },
    {
      "cell_type": "code",
      "metadata": {
        "colab": {
          "base_uri": "https://localhost:8080/"
        },
        "id": "vXu4RrhcQvz5",
        "outputId": "5dbb53fb-8537-4e0b-8f93-b5ce132470ca"
      },
      "source": [
        "# Merge dataframe yang memiliki multi index\n",
        "df_merge = pd.merge(df1.reset_index(),df2.reset_index())\n",
        "print('Merging dataframe:\\n', df_merge)"
      ],
      "execution_count": 16,
      "outputs": [
        {
          "output_type": "stream",
          "name": "stdout",
          "text": [
            "Merging dataframe:\n",
            "   key  val2  val1  val3  val4\n",
            "0  k1    30   200     1     6\n",
            "1  k3   100     0     2     7\n",
            "2  k5    10   100     3     8\n"
          ]
        }
      ]
    },
    {
      "cell_type": "markdown",
      "metadata": {
        "id": "3xLLJ3gEQ6W1"
      },
      "source": [
        "**Join**\n",
        "Metthod .join() digunakan pada dataframe untuk menggabungkan kedua data dengan set index pada kedua tabel tersebut sebagai join key, tanpa index, hal ini tidak akan berhasil."
      ]
    },
    {
      "cell_type": "code",
      "metadata": {
        "id": "6YXXlGm5Q_xl"
      },
      "source": [
        "# Buat dataframe df1 dan df2\n",
        "df1 = pd.DataFrame({\n",
        "   'key':['k1','k2','k3','k4','k5'],\n",
        "   'val1':[200, 500, 0, 500, 100],\n",
        "   'val2':[30, 50, 100, 20, 10]\n",
        "})\n",
        "df2 = pd.DataFrame({\n",
        "   'key':['k1','k3','k5','k7','k10'],\n",
        "   'val3':[1,2,3,4,5],\n",
        "   'val4':[6,7,8,8,10]\n",
        "})\n",
        "# Penerapan join dengan menggunakan set_index dan keyword how\n",
        "# df1.join(df2) #<-- akan error"
      ],
      "execution_count": 17,
      "outputs": []
    },
    {
      "cell_type": "code",
      "metadata": {
        "colab": {
          "base_uri": "https://localhost:8080/"
        },
        "id": "w7xoJ8mNTMFr",
        "outputId": "59a6b379-8daf-49bb-def9-24f2c5e6b86f"
      },
      "source": [
        "print(df1.set_index('key').join(df2.set_index('key')))"
      ],
      "execution_count": 18,
      "outputs": [
        {
          "output_type": "stream",
          "name": "stdout",
          "text": [
            "     val1  val2  val3  val4\n",
            "key                        \n",
            "k1    200    30   1.0   6.0\n",
            "k2    500    50   NaN   NaN\n",
            "k3      0   100   2.0   7.0\n",
            "k4    500    20   NaN   NaN\n",
            "k5    100    10   3.0   8.0\n"
          ]
        }
      ]
    },
    {
      "cell_type": "markdown",
      "metadata": {
        "id": "4ROHQ2BjToKI"
      },
      "source": [
        "Untuk tipe join yang lain (contoh=inner), harus menspecify keyword how='inner' seperti yang dicontohkan berikut ini"
      ]
    },
    {
      "cell_type": "code",
      "metadata": {
        "colab": {
          "base_uri": "https://localhost:8080/"
        },
        "id": "AbqDv4jJTrFQ",
        "outputId": "20e77319-fa81-4902-907a-b7eea7d6b62b"
      },
      "source": [
        "join_df = df1.set_index('key').join(df2.set_index('key'), how='inner')\n",
        "print(join_df)"
      ],
      "execution_count": 19,
      "outputs": [
        {
          "output_type": "stream",
          "name": "stdout",
          "text": [
            "     val1  val2  val3  val4\n",
            "key                        \n",
            "k1    200    30     1     6\n",
            "k3      0   100     2     7\n",
            "k5    100    10     3     8\n"
          ]
        }
      ]
    }
  ]
}