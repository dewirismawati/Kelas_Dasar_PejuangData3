{
  "nbformat": 4,
  "nbformat_minor": 0,
  "metadata": {
    "colab": {
      "name": "Mini Project_Kelas Dasar.ipynb",
      "provenance": [],
      "collapsed_sections": [
        "Z_jzYqTKVmaI",
        "FTI52tlhRptH"
      ]
    },
    "kernelspec": {
      "name": "python3",
      "display_name": "Python 3"
    },
    "language_info": {
      "name": "python"
    }
  },
  "cells": [
    {
      "cell_type": "markdown",
      "metadata": {
        "id": "n__W2S1PVTDZ"
      },
      "source": [
        "#Amazon Unlocked Mobile"
      ]
    },
    {
      "cell_type": "markdown",
      "metadata": {
        "id": "Z_jzYqTKVmaI"
      },
      "source": [
        "##Latar Belakang Dataset"
      ]
    },
    {
      "cell_type": "markdown",
      "metadata": {
        "id": "EudeKuvoVxFN"
      },
      "source": [
        "Ponsel telah merevolusi cara kita membeli produk secara online, membuat semua informasi tersedia di ujung jari kita. Dengan semakin mudahnya akses informasi, maka semakin banyak konsumen yang akan mencari informasi produk dari konsumen lain selain dari informasi yang diberikan oleh penjual. Ulasan dan penilaian yang disampaikan oleh konsumen adalah contoh dari jenis informasi tersebut dan telah menjadi bagian integral dari proses keputusan pembelian pelanggan. Platform ulasan dan peringkat yang disediakan oleh pemain eCommerce menciptakan sistem transparan bagi konsumen untuk mengambil keputusan yang tepat dan merasa yakin tentang hal itu."
      ]
    },
    {
      "cell_type": "markdown",
      "metadata": {
        "id": "FTI52tlhRptH"
      },
      "source": [
        "#Pertanyaan Analisis"
      ]
    },
    {
      "cell_type": "markdown",
      "metadata": {
        "id": "FeZaz2tNVu3_"
      },
      "source": [
        "Bagaimana hubungan antara Produk, harga produk dan peringkat produk?"
      ]
    },
    {
      "cell_type": "markdown",
      "metadata": {
        "id": "-hsD6-yeSnpb"
      },
      "source": [
        "#Import LIbrary"
      ]
    },
    {
      "cell_type": "code",
      "metadata": {
        "id": "-4baYFYtMwRG"
      },
      "source": [
        "import pandas as pd                           \n",
        "import numpy as np\n",
        "import seaborn as sns\n",
        "import matplotlib.pyplot as plt\n",
        "%matplotlib inline"
      ],
      "execution_count": 104,
      "outputs": []
    },
    {
      "cell_type": "code",
      "metadata": {
        "colab": {
          "base_uri": "https://localhost:8080/",
          "height": 0
        },
        "id": "bmG898JuRLez",
        "outputId": "5e08a0f4-f6d3-4e4e-b56f-583826f0c456"
      },
      "source": [
        "df = pd.read_csv('/content/Amazon_Unlocked_Mobile.csv')\n",
        "df.head()"
      ],
      "execution_count": 105,
      "outputs": [
        {
          "output_type": "execute_result",
          "data": {
            "text/html": [
              "<div>\n",
              "<style scoped>\n",
              "    .dataframe tbody tr th:only-of-type {\n",
              "        vertical-align: middle;\n",
              "    }\n",
              "\n",
              "    .dataframe tbody tr th {\n",
              "        vertical-align: top;\n",
              "    }\n",
              "\n",
              "    .dataframe thead th {\n",
              "        text-align: right;\n",
              "    }\n",
              "</style>\n",
              "<table border=\"1\" class=\"dataframe\">\n",
              "  <thead>\n",
              "    <tr style=\"text-align: right;\">\n",
              "      <th></th>\n",
              "      <th>Product Name</th>\n",
              "      <th>Brand Name</th>\n",
              "      <th>Price</th>\n",
              "      <th>Rating</th>\n",
              "      <th>Reviews</th>\n",
              "      <th>Review Votes</th>\n",
              "    </tr>\n",
              "  </thead>\n",
              "  <tbody>\n",
              "    <tr>\n",
              "      <th>0</th>\n",
              "      <td>\"CLEAR CLEAN ESN\" Sprint EPIC 4G Galaxy SPH-D7...</td>\n",
              "      <td>Samsung</td>\n",
              "      <td>199.99</td>\n",
              "      <td>5</td>\n",
              "      <td>I feel so LUCKY to have found this used (phone...</td>\n",
              "      <td>1.0</td>\n",
              "    </tr>\n",
              "    <tr>\n",
              "      <th>1</th>\n",
              "      <td>\"CLEAR CLEAN ESN\" Sprint EPIC 4G Galaxy SPH-D7...</td>\n",
              "      <td>Samsung</td>\n",
              "      <td>199.99</td>\n",
              "      <td>4</td>\n",
              "      <td>nice phone, nice up grade from my pantach revu...</td>\n",
              "      <td>0.0</td>\n",
              "    </tr>\n",
              "    <tr>\n",
              "      <th>2</th>\n",
              "      <td>\"CLEAR CLEAN ESN\" Sprint EPIC 4G Galaxy SPH-D7...</td>\n",
              "      <td>Samsung</td>\n",
              "      <td>199.99</td>\n",
              "      <td>5</td>\n",
              "      <td>Very pleased</td>\n",
              "      <td>0.0</td>\n",
              "    </tr>\n",
              "    <tr>\n",
              "      <th>3</th>\n",
              "      <td>\"CLEAR CLEAN ESN\" Sprint EPIC 4G Galaxy SPH-D7...</td>\n",
              "      <td>Samsung</td>\n",
              "      <td>199.99</td>\n",
              "      <td>4</td>\n",
              "      <td>It works good but it goes slow sometimes but i...</td>\n",
              "      <td>0.0</td>\n",
              "    </tr>\n",
              "    <tr>\n",
              "      <th>4</th>\n",
              "      <td>\"CLEAR CLEAN ESN\" Sprint EPIC 4G Galaxy SPH-D7...</td>\n",
              "      <td>Samsung</td>\n",
              "      <td>199.99</td>\n",
              "      <td>4</td>\n",
              "      <td>Great phone to replace my lost phone. The only...</td>\n",
              "      <td>0.0</td>\n",
              "    </tr>\n",
              "  </tbody>\n",
              "</table>\n",
              "</div>"
            ],
            "text/plain": [
              "                                        Product Name  ... Review Votes\n",
              "0  \"CLEAR CLEAN ESN\" Sprint EPIC 4G Galaxy SPH-D7...  ...          1.0\n",
              "1  \"CLEAR CLEAN ESN\" Sprint EPIC 4G Galaxy SPH-D7...  ...          0.0\n",
              "2  \"CLEAR CLEAN ESN\" Sprint EPIC 4G Galaxy SPH-D7...  ...          0.0\n",
              "3  \"CLEAR CLEAN ESN\" Sprint EPIC 4G Galaxy SPH-D7...  ...          0.0\n",
              "4  \"CLEAR CLEAN ESN\" Sprint EPIC 4G Galaxy SPH-D7...  ...          0.0\n",
              "\n",
              "[5 rows x 6 columns]"
            ]
          },
          "metadata": {},
          "execution_count": 105
        }
      ]
    },
    {
      "cell_type": "markdown",
      "metadata": {
        "id": "G7pLI3go2pkA"
      },
      "source": [
        "Variabel-variabel yang terdapat pada dataset ini adalah sebagai berikut:\n",
        "\n",
        "**Product Name** = Nama Produk\n",
        "\n",
        "**Brand Name** = Nama Brand\n",
        "\n",
        "**Price** = Harga Product\n",
        "\n",
        "**Rating** = Nilai Product 1-5\n",
        "\n",
        "**Reviews** = penilaian para pengguna Product\n",
        "\n",
        "**Reviw Votes** = vote untuk rewiew"
      ]
    },
    {
      "cell_type": "markdown",
      "metadata": {
        "id": "bIqcyiFyi1h3"
      },
      "source": [
        "#**Esploratory Data Analysis**"
      ]
    },
    {
      "cell_type": "markdown",
      "metadata": {
        "id": "S0DirmVvi9Ek"
      },
      "source": [
        "##Dimensi Data"
      ]
    },
    {
      "cell_type": "code",
      "metadata": {
        "colab": {
          "base_uri": "https://localhost:8080/"
        },
        "id": "t-Al2jxkRebG",
        "outputId": "0d25b8fa-f9f4-48d1-d78b-c2dee4106f5e"
      },
      "source": [
        "df.shape"
      ],
      "execution_count": 106,
      "outputs": [
        {
          "output_type": "execute_result",
          "data": {
            "text/plain": [
              "(413840, 6)"
            ]
          },
          "metadata": {},
          "execution_count": 106
        }
      ]
    },
    {
      "cell_type": "markdown",
      "metadata": {
        "id": "i9mQ6h-W7_aH"
      },
      "source": [
        "Dataset ini memiliki 413840 baris dan 6 kolom\n",
        "\n"
      ]
    },
    {
      "cell_type": "markdown",
      "metadata": {
        "id": "fotnqxyijQLO"
      },
      "source": [
        "##Variabel Pada Dataset"
      ]
    },
    {
      "cell_type": "code",
      "metadata": {
        "colab": {
          "base_uri": "https://localhost:8080/"
        },
        "id": "QCNJB4aORk5E",
        "outputId": "5fdb0e76-87b5-4a40-b6f6-e52cbee578a4"
      },
      "source": [
        "df.columns.values"
      ],
      "execution_count": 107,
      "outputs": [
        {
          "output_type": "execute_result",
          "data": {
            "text/plain": [
              "array(['Product Name', 'Brand Name', 'Price', 'Rating', 'Reviews',\n",
              "       'Review Votes'], dtype=object)"
            ]
          },
          "metadata": {},
          "execution_count": 107
        }
      ]
    },
    {
      "cell_type": "code",
      "metadata": {
        "id": "J3vYzfFRzY-4"
      },
      "source": [
        "df['Brand Name'] = df['Brand Name'].astype('string')"
      ],
      "execution_count": 108,
      "outputs": []
    },
    {
      "cell_type": "code",
      "metadata": {
        "colab": {
          "base_uri": "https://localhost:8080/"
        },
        "id": "NJLdv8sERogP",
        "outputId": "ce0c81c4-48a9-4ac6-da73-59cb23d52f7e"
      },
      "source": [
        "df.dtypes"
      ],
      "execution_count": 109,
      "outputs": [
        {
          "output_type": "execute_result",
          "data": {
            "text/plain": [
              "Product Name     object\n",
              "Brand Name       string\n",
              "Price           float64\n",
              "Rating            int64\n",
              "Reviews          object\n",
              "Review Votes    float64\n",
              "dtype: object"
            ]
          },
          "metadata": {},
          "execution_count": 109
        }
      ]
    },
    {
      "cell_type": "code",
      "metadata": {
        "colab": {
          "base_uri": "https://localhost:8080/"
        },
        "id": "kL8Olx3yRqk0",
        "outputId": "ed39fb2f-54dc-4068-905c-c3ea681bbeef"
      },
      "source": [
        "df.info()"
      ],
      "execution_count": 110,
      "outputs": [
        {
          "output_type": "stream",
          "name": "stdout",
          "text": [
            "<class 'pandas.core.frame.DataFrame'>\n",
            "RangeIndex: 413840 entries, 0 to 413839\n",
            "Data columns (total 6 columns):\n",
            " #   Column        Non-Null Count   Dtype  \n",
            "---  ------        --------------   -----  \n",
            " 0   Product Name  413840 non-null  object \n",
            " 1   Brand Name    348669 non-null  string \n",
            " 2   Price         407907 non-null  float64\n",
            " 3   Rating        413840 non-null  int64  \n",
            " 4   Reviews       413778 non-null  object \n",
            " 5   Review Votes  401544 non-null  float64\n",
            "dtypes: float64(2), int64(1), object(2), string(1)\n",
            "memory usage: 18.9+ MB\n"
          ]
        }
      ]
    },
    {
      "cell_type": "markdown",
      "metadata": {
        "id": "tGPwUB6UjkhV"
      },
      "source": [
        "##Mengecek Missing Data"
      ]
    },
    {
      "cell_type": "code",
      "metadata": {
        "colab": {
          "base_uri": "https://localhost:8080/"
        },
        "id": "F3ZqxMDiR2qy",
        "outputId": "2eb7df3a-b740-40c1-b28c-abf06beec7df"
      },
      "source": [
        "df.isnull().sum()"
      ],
      "execution_count": 111,
      "outputs": [
        {
          "output_type": "execute_result",
          "data": {
            "text/plain": [
              "Product Name        0\n",
              "Brand Name      65171\n",
              "Price            5933\n",
              "Rating              0\n",
              "Reviews            62\n",
              "Review Votes    12296\n",
              "dtype: int64"
            ]
          },
          "metadata": {},
          "execution_count": 111
        }
      ]
    },
    {
      "cell_type": "code",
      "metadata": {
        "colab": {
          "base_uri": "https://localhost:8080/",
          "height": 343
        },
        "id": "AFX1HFXhR_T1",
        "outputId": "7d9f8b0e-ac22-4b63-bb90-0d87e3c7c6fd"
      },
      "source": [
        "sns.heatmap(df.isnull(),cbar=False,yticklabels=False,cmap = 'viridis')"
      ],
      "execution_count": 112,
      "outputs": [
        {
          "output_type": "execute_result",
          "data": {
            "text/plain": [
              "<matplotlib.axes._subplots.AxesSubplot at 0x7f3e08b521d0>"
            ]
          },
          "metadata": {},
          "execution_count": 112
        },
        {
          "output_type": "display_data",
          "data": {
            "image/png": "[encoded data removed]",
            "text/plain": [
              "<Figure size 432x288 with 1 Axes>"
            ]
          },
          "metadata": {
            "needs_background": "light"
          }
        }
      ]
    },
    {
      "cell_type": "markdown",
      "metadata": {
        "id": "HGa88NsK9BNp"
      },
      "source": [
        "Kolom-kolom dengan data kosong adalah: Brand Name, Price, Rivew Votes"
      ]
    },
    {
      "cell_type": "markdown",
      "metadata": {
        "id": "DEcEsnBblTYi"
      },
      "source": [
        "##Mengecek Outlier"
      ]
    },
    {
      "cell_type": "code",
      "metadata": {
        "colab": {
          "base_uri": "https://localhost:8080/",
          "height": 296
        },
        "id": "OX0LnDQpSVHk",
        "outputId": "980aa9a4-d17f-4c09-f3cb-ba7f2432f4f7"
      },
      "source": [
        "df1=df.select_dtypes(include=['float64', 'int64'])#Memilih kolom numerik\n",
        "\n",
        "sns.boxplot(x=\"variable\", y=\"value\", color='green',orient='v', data=pd.melt(df1))\n",
        "plt.tight_layout()"
      ],
      "execution_count": 113,
      "outputs": [
        {
          "output_type": "display_data",
          "data": {
            "image/png": "[encoded data removed]",
            "text/plain": [
              "<Figure size 432x288 with 1 Axes>"
            ]
          },
          "metadata": {
            "needs_background": "light"
          }
        }
      ]
    },
    {
      "cell_type": "markdown",
      "metadata": {
        "id": "dYmEpbUN9NtV"
      },
      "source": [
        "Kolom numeric yang memiliki outlier adalah Price dan Rivew Votes"
      ]
    },
    {
      "cell_type": "markdown",
      "metadata": {
        "id": "PZ6y3_GPldM-"
      },
      "source": [
        "##Melihat Korelasi Data"
      ]
    },
    {
      "cell_type": "code",
      "metadata": {
        "colab": {
          "base_uri": "https://localhost:8080/",
          "height": 395
        },
        "id": "3leUOIz3Sa0Z",
        "outputId": "473a7347-7884-4e2c-9d21-4b419032328b"
      },
      "source": [
        "k = len(df1.columns)\n",
        "cm = df1.corr()\n",
        "plt.figure(figsize=(10,6))\n",
        "sns.heatmap(cm, annot=True, cmap = 'viridis')"
      ],
      "execution_count": 114,
      "outputs": [
        {
          "output_type": "execute_result",
          "data": {
            "text/plain": [
              "<matplotlib.axes._subplots.AxesSubplot at 0x7f3e08b1c590>"
            ]
          },
          "metadata": {},
          "execution_count": 114
        },
        {
          "output_type": "display_data",
          "data": {
            "image/png": "[encoded data removed]",
            "text/plain": [
              "<Figure size 720x432 with 2 Axes>"
            ]
          },
          "metadata": {
            "needs_background": "light"
          }
        }
      ]
    },
    {
      "cell_type": "markdown",
      "metadata": {
        "id": "euV9Y5oZlmZ3"
      },
      "source": [
        "##Melihat Statistik Data"
      ]
    },
    {
      "cell_type": "code",
      "metadata": {
        "colab": {
          "base_uri": "https://localhost:8080/",
          "height": 294
        },
        "id": "Rk_fsopfSjmz",
        "outputId": "2eecb284-919d-47b7-ed03-97ded6096abb"
      },
      "source": [
        "df.describe()"
      ],
      "execution_count": 115,
      "outputs": [
        {
          "output_type": "execute_result",
          "data": {
            "text/html": [
              "<div>\n",
              "<style scoped>\n",
              "    .dataframe tbody tr th:only-of-type {\n",
              "        vertical-align: middle;\n",
              "    }\n",
              "\n",
              "    .dataframe tbody tr th {\n",
              "        vertical-align: top;\n",
              "    }\n",
              "\n",
              "    .dataframe thead th {\n",
              "        text-align: right;\n",
              "    }\n",
              "</style>\n",
              "<table border=\"1\" class=\"dataframe\">\n",
              "  <thead>\n",
              "    <tr style=\"text-align: right;\">\n",
              "      <th></th>\n",
              "      <th>Price</th>\n",
              "      <th>Rating</th>\n",
              "      <th>Review Votes</th>\n",
              "    </tr>\n",
              "  </thead>\n",
              "  <tbody>\n",
              "    <tr>\n",
              "      <th>count</th>\n",
              "      <td>407907.000000</td>\n",
              "      <td>413840.000000</td>\n",
              "      <td>401544.000000</td>\n",
              "    </tr>\n",
              "    <tr>\n",
              "      <th>mean</th>\n",
              "      <td>226.867155</td>\n",
              "      <td>3.819578</td>\n",
              "      <td>1.507237</td>\n",
              "    </tr>\n",
              "    <tr>\n",
              "      <th>std</th>\n",
              "      <td>273.006259</td>\n",
              "      <td>1.548216</td>\n",
              "      <td>9.163853</td>\n",
              "    </tr>\n",
              "    <tr>\n",
              "      <th>min</th>\n",
              "      <td>1.730000</td>\n",
              "      <td>1.000000</td>\n",
              "      <td>0.000000</td>\n",
              "    </tr>\n",
              "    <tr>\n",
              "      <th>25%</th>\n",
              "      <td>79.990000</td>\n",
              "      <td>3.000000</td>\n",
              "      <td>0.000000</td>\n",
              "    </tr>\n",
              "    <tr>\n",
              "      <th>50%</th>\n",
              "      <td>144.710000</td>\n",
              "      <td>5.000000</td>\n",
              "      <td>0.000000</td>\n",
              "    </tr>\n",
              "    <tr>\n",
              "      <th>75%</th>\n",
              "      <td>269.990000</td>\n",
              "      <td>5.000000</td>\n",
              "      <td>1.000000</td>\n",
              "    </tr>\n",
              "    <tr>\n",
              "      <th>max</th>\n",
              "      <td>2598.000000</td>\n",
              "      <td>5.000000</td>\n",
              "      <td>645.000000</td>\n",
              "    </tr>\n",
              "  </tbody>\n",
              "</table>\n",
              "</div>"
            ],
            "text/plain": [
              "               Price         Rating   Review Votes\n",
              "count  407907.000000  413840.000000  401544.000000\n",
              "mean      226.867155       3.819578       1.507237\n",
              "std       273.006259       1.548216       9.163853\n",
              "min         1.730000       1.000000       0.000000\n",
              "25%        79.990000       3.000000       0.000000\n",
              "50%       144.710000       5.000000       0.000000\n",
              "75%       269.990000       5.000000       1.000000\n",
              "max      2598.000000       5.000000     645.000000"
            ]
          },
          "metadata": {},
          "execution_count": 115
        }
      ]
    },
    {
      "cell_type": "markdown",
      "metadata": {
        "id": "Ml0SUCUtlxl1"
      },
      "source": [
        "##Plot Distribusi Data Numerik"
      ]
    },
    {
      "cell_type": "code",
      "metadata": {
        "colab": {
          "base_uri": "https://localhost:8080/",
          "height": 508
        },
        "id": "xveNroA6So2F",
        "outputId": "ec2351ec-68f6-40a6-a12c-def0eb2fd2b7"
      },
      "source": [
        "l = df1.columns.values\n",
        "number_of_columns=len(df1.columns)\n",
        "number_of_rows = len(l)-1/number_of_columns\n",
        "plt.figure(figsize=(2*number_of_columns,5*number_of_rows))\n",
        "for i in range(0,len(l)):\n",
        "    plt.subplot(number_of_rows + 1,number_of_columns,i+1)\n",
        "    sns.distplot(df[l[i]],kde=True) "
      ],
      "execution_count": 116,
      "outputs": [
        {
          "output_type": "stream",
          "name": "stderr",
          "text": [
            "/usr/local/lib/python3.7/dist-packages/seaborn/distributions.py:2619: FutureWarning:\n",
            "\n",
            "`distplot` is a deprecated function and will be removed in a future version. Please adapt your code to use either `displot` (a figure-level function with similar flexibility) or `histplot` (an axes-level function for histograms).\n",
            "\n",
            "/usr/local/lib/python3.7/dist-packages/seaborn/distributions.py:2619: FutureWarning:\n",
            "\n",
            "`distplot` is a deprecated function and will be removed in a future version. Please adapt your code to use either `displot` (a figure-level function with similar flexibility) or `histplot` (an axes-level function for histograms).\n",
            "\n",
            "/usr/local/lib/python3.7/dist-packages/seaborn/distributions.py:2619: FutureWarning:\n",
            "\n",
            "`distplot` is a deprecated function and will be removed in a future version. Please adapt your code to use either `displot` (a figure-level function with similar flexibility) or `histplot` (an axes-level function for histograms).\n",
            "\n"
          ]
        },
        {
          "output_type": "display_data",
          "data": {
            "image/png": "[encoded data removed]",
            "text/plain": [
              "<Figure size 432x960 with 3 Axes>"
            ]
          },
          "metadata": {
            "needs_background": "light"
          }
        }
      ]
    },
    {
      "cell_type": "markdown",
      "metadata": {
        "id": "_WTTVVKOl2NN"
      },
      "source": [
        "##Pairplot"
      ]
    },
    {
      "cell_type": "code",
      "metadata": {
        "colab": {
          "base_uri": "https://localhost:8080/",
          "height": 0
        },
        "id": "NC3ToH4hSyCT",
        "outputId": "a57a3470-22a7-414a-af8c-745f9c55c41c"
      },
      "source": [
        "g = sns.pairplot(df1, hue=\"Rating\")"
      ],
      "execution_count": 117,
      "outputs": [
        {
          "output_type": "display_data",
          "data": {
            "image/png": "[encoded data removed]",
            "text/plain": [
              "<Figure size 402.375x360 with 6 Axes>"
            ]
          },
          "metadata": {
            "needs_background": "light"
          }
        }
      ]
    },
    {
      "cell_type": "markdown",
      "metadata": {
        "id": "M0da34wV9xBD"
      },
      "source": [
        "Plot ini untuk mengetahui plot untuk masing-masing pasangan data numerik"
      ]
    },
    {
      "cell_type": "markdown",
      "metadata": {
        "id": "ilNognl1mCnL"
      },
      "source": [
        "#**Data Preparation**"
      ]
    },
    {
      "cell_type": "code",
      "metadata": {
        "colab": {
          "base_uri": "https://localhost:8080/"
        },
        "id": "KDuFhtSUTe4H",
        "outputId": "56b06ba9-9396-45c2-b48d-9828c56466a2"
      },
      "source": [
        "df['Price'].value_counts()"
      ],
      "execution_count": 118,
      "outputs": [
        {
          "output_type": "execute_result",
          "data": {
            "text/plain": [
              "99.99      11274\n",
              "49.99       9335\n",
              "59.99       7423\n",
              "39.99       6963\n",
              "179.99      5385\n",
              "           ...  \n",
              "437.99         1\n",
              "87.88          1\n",
              "2598.00        1\n",
              "64.83          1\n",
              "523.99         1\n",
              "Name: Price, Length: 1754, dtype: int64"
            ]
          },
          "metadata": {},
          "execution_count": 118
        }
      ]
    },
    {
      "cell_type": "code",
      "metadata": {
        "colab": {
          "base_uri": "https://localhost:8080/"
        },
        "id": "86ZtSrcvTKDO",
        "outputId": "08ec388f-4dd6-47b3-84ee-55f932b0cc9d"
      },
      "source": [
        "df['Rating'].value_counts()"
      ],
      "execution_count": 119,
      "outputs": [
        {
          "output_type": "execute_result",
          "data": {
            "text/plain": [
              "5    223605\n",
              "1     72350\n",
              "4     61392\n",
              "3     31765\n",
              "2     24728\n",
              "Name: Rating, dtype: int64"
            ]
          },
          "metadata": {},
          "execution_count": 119
        }
      ]
    },
    {
      "cell_type": "code",
      "metadata": {
        "colab": {
          "base_uri": "https://localhost:8080/"
        },
        "id": "A-2pXqC30qVN",
        "outputId": "7c0ff36f-9071-4834-9e9f-24ea78cea40d"
      },
      "source": [
        "df['Brand Name'].value_counts()"
      ],
      "execution_count": 120,
      "outputs": [
        {
          "output_type": "execute_result",
          "data": {
            "text/plain": [
              "Samsung         65747\n",
              "BLU             63248\n",
              "Apple           58186\n",
              "LG              22417\n",
              "BlackBerry      16872\n",
              "                ...  \n",
              "KIKAR               1\n",
              "VIP                 1\n",
              "apple               1\n",
              "H2O                 1\n",
              "OLA Products        1\n",
              "Name: Brand Name, Length: 384, dtype: Int64"
            ]
          },
          "metadata": {},
          "execution_count": 120
        }
      ]
    },
    {
      "cell_type": "code",
      "metadata": {
        "colab": {
          "base_uri": "https://localhost:8080/",
          "height": 0
        },
        "id": "K-Rstg-4ZEDU",
        "outputId": "b3162a17-7ebc-4c48-ee55-c9fe2e742530"
      },
      "source": [
        "df_pre=df[['Price','Rating','Brand Name']]\n",
        "df_pre=df_pre.dropna()\n",
        "df_pre"
      ],
      "execution_count": 121,
      "outputs": [
        {
          "output_type": "execute_result",
          "data": {
            "text/html": [
              "<div>\n",
              "<style scoped>\n",
              "    .dataframe tbody tr th:only-of-type {\n",
              "        vertical-align: middle;\n",
              "    }\n",
              "\n",
              "    .dataframe tbody tr th {\n",
              "        vertical-align: top;\n",
              "    }\n",
              "\n",
              "    .dataframe thead th {\n",
              "        text-align: right;\n",
              "    }\n",
              "</style>\n",
              "<table border=\"1\" class=\"dataframe\">\n",
              "  <thead>\n",
              "    <tr style=\"text-align: right;\">\n",
              "      <th></th>\n",
              "      <th>Price</th>\n",
              "      <th>Rating</th>\n",
              "      <th>Brand Name</th>\n",
              "    </tr>\n",
              "  </thead>\n",
              "  <tbody>\n",
              "    <tr>\n",
              "      <th>0</th>\n",
              "      <td>199.99</td>\n",
              "      <td>5</td>\n",
              "      <td>Samsung</td>\n",
              "    </tr>\n",
              "    <tr>\n",
              "      <th>1</th>\n",
              "      <td>199.99</td>\n",
              "      <td>4</td>\n",
              "      <td>Samsung</td>\n",
              "    </tr>\n",
              "    <tr>\n",
              "      <th>2</th>\n",
              "      <td>199.99</td>\n",
              "      <td>5</td>\n",
              "      <td>Samsung</td>\n",
              "    </tr>\n",
              "    <tr>\n",
              "      <th>3</th>\n",
              "      <td>199.99</td>\n",
              "      <td>4</td>\n",
              "      <td>Samsung</td>\n",
              "    </tr>\n",
              "    <tr>\n",
              "      <th>4</th>\n",
              "      <td>199.99</td>\n",
              "      <td>4</td>\n",
              "      <td>Samsung</td>\n",
              "    </tr>\n",
              "    <tr>\n",
              "      <th>...</th>\n",
              "      <td>...</td>\n",
              "      <td>...</td>\n",
              "      <td>...</td>\n",
              "    </tr>\n",
              "    <tr>\n",
              "      <th>413835</th>\n",
              "      <td>79.95</td>\n",
              "      <td>5</td>\n",
              "      <td>Samsung</td>\n",
              "    </tr>\n",
              "    <tr>\n",
              "      <th>413836</th>\n",
              "      <td>79.95</td>\n",
              "      <td>3</td>\n",
              "      <td>Samsung</td>\n",
              "    </tr>\n",
              "    <tr>\n",
              "      <th>413837</th>\n",
              "      <td>79.95</td>\n",
              "      <td>5</td>\n",
              "      <td>Samsung</td>\n",
              "    </tr>\n",
              "    <tr>\n",
              "      <th>413838</th>\n",
              "      <td>79.95</td>\n",
              "      <td>3</td>\n",
              "      <td>Samsung</td>\n",
              "    </tr>\n",
              "    <tr>\n",
              "      <th>413839</th>\n",
              "      <td>79.95</td>\n",
              "      <td>4</td>\n",
              "      <td>Samsung</td>\n",
              "    </tr>\n",
              "  </tbody>\n",
              "</table>\n",
              "<p>344554 rows × 3 columns</p>\n",
              "</div>"
            ],
            "text/plain": [
              "         Price  Rating Brand Name\n",
              "0       199.99       5    Samsung\n",
              "1       199.99       4    Samsung\n",
              "2       199.99       5    Samsung\n",
              "3       199.99       4    Samsung\n",
              "4       199.99       4    Samsung\n",
              "...        ...     ...        ...\n",
              "413835   79.95       5    Samsung\n",
              "413836   79.95       3    Samsung\n",
              "413837   79.95       5    Samsung\n",
              "413838   79.95       3    Samsung\n",
              "413839   79.95       4    Samsung\n",
              "\n",
              "[344554 rows x 3 columns]"
            ]
          },
          "metadata": {},
          "execution_count": 121
        }
      ]
    },
    {
      "cell_type": "code",
      "metadata": {
        "colab": {
          "base_uri": "https://localhost:8080/"
        },
        "id": "QJsWr5RQaGjs",
        "outputId": "a8c588b2-c3c0-4313-f118-a7e4da68a34d"
      },
      "source": [
        "df_pre.info()"
      ],
      "execution_count": 122,
      "outputs": [
        {
          "output_type": "stream",
          "name": "stdout",
          "text": [
            "<class 'pandas.core.frame.DataFrame'>\n",
            "Int64Index: 344554 entries, 0 to 413839\n",
            "Data columns (total 3 columns):\n",
            " #   Column      Non-Null Count   Dtype  \n",
            "---  ------      --------------   -----  \n",
            " 0   Price       344554 non-null  float64\n",
            " 1   Rating      344554 non-null  int64  \n",
            " 2   Brand Name  344554 non-null  string \n",
            "dtypes: float64(1), int64(1), string(1)\n",
            "memory usage: 10.5 MB\n"
          ]
        }
      ]
    },
    {
      "cell_type": "markdown",
      "metadata": {
        "id": "onPKVgZEbCTL"
      },
      "source": [
        "#**Data Visualisasi**"
      ]
    },
    {
      "cell_type": "code",
      "metadata": {
        "id": "yW1FNJ5pa8AZ"
      },
      "source": [
        "#Membuat Plot Scatter\n",
        "import plotly.express as px\n",
        "df_pre['Brand Name'] = df_pre['Brand Name'].astype('string')\n",
        "fig = px.scatter(df_pre,\n",
        "                 x = \"Rating\",\n",
        "                 y = \"Price\",\n",
        "                 color = \"Brand Name\",\n",
        "                 size = \"Rating\",width=1600,height=800)\n",
        "\n",
        "fig.update_layout(\n",
        "    title = 'Amazon Unlocked Mobile',\n",
        "    title_font_color = 'Blue',\n",
        "    title_font_size = 30,\n",
        "\n",
        "    xaxis = dict(\n",
        "        title = 'Rating',\n",
        "        titlefont_size = 16,\n",
        "        tickfont_size = 14),\n",
        "    yaxis = dict(\n",
        "        title = 'Price',\n",
        "        titlefont_size = 16,\n",
        "        tickfont_size = 14))\n",
        "\n",
        "fig.show()\n"
      ],
      "execution_count": null,
      "outputs": []
    },
    {
      "cell_type": "code",
      "metadata": {
        "id": "LKa8-_SUa__r"
      },
      "source": [
        ""
      ],
      "execution_count": null,
      "outputs": []
    }
  ]
}