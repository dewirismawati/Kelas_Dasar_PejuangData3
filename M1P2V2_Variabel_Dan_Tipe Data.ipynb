{
  "nbformat": 4,
  "nbformat_minor": 0,
  "metadata": {
    "colab": {
      "name": "Untitled0.ipynb",
      "provenance": [],
      "collapsed_sections": [
        "JtkOJTQhZ_mh"
      ]
    },
    "kernelspec": {
      "name": "python3",
      "display_name": "Python 3"
    },
    "language_info": {
      "name": "python"
    }
  },
  "cells": [
    {
      "cell_type": "code",
      "metadata": {
        "id": "zC-Ya0pz7o9x"
      },
      "source": [
        ""
      ],
      "execution_count": null,
      "outputs": []
    },
    {
      "cell_type": "markdown",
      "metadata": {
        "id": "JtkOJTQhZ_mh"
      },
      "source": [
        "# Variabel & Tipe Data"
      ]
    },
    {
      "cell_type": "markdown",
      "metadata": {
        "id": "sZj9ZQpEaI0S"
      },
      "source": [
        "# Variabel"
      ]
    },
    {
      "cell_type": "markdown",
      "metadata": {
        "id": "1mPcJ0_RaNet"
      },
      "source": [
        "**Variabel**: Lokasi penyimpanan yang digunakan untuk menampung sebuah data atau informasi.\n",
        "Syarat-syarat penamaan variabel\n",
        "1. karakter-karakter yang digunakan untuk penamaan variabel adalah alphabet, angka, dan underscore.\n",
        "2. karakter pertama variabel harus berupa huruf atau garis bawah/underscore, dan tidak bisa berupa angka.\n",
        "3. Nama sebuah variabel tidak bisa menggunakan keyword atau reserved word dari bahasa python seperti for, if, dan lainnya.\n",
        "4. karakter pada nama variabel bersifat sensitif (case-sensitif)."
      ]
    },
    {
      "cell_type": "code",
      "metadata": {
        "id": "p3J1ZmAebpV7"
      },
      "source": [
        "# membuat variabel\n",
        "\n",
        "kalimat   = 'ini adalah variabel'\n",
        "bilangan1 = 4\n",
        "bilangan2 = 2.5\n",
        "bilangan3 = True\n",
        "bilangan4 = 1j + 4"
      ],
      "execution_count": null,
      "outputs": []
    },
    {
      "cell_type": "code",
      "metadata": {
        "colab": {
          "base_uri": "https://localhost:8080/"
        },
        "id": "m_NL12dhcLmV",
        "outputId": "3488dee7-dcaa-4c17-b1d1-81adb624c69e"
      },
      "source": [
        "# menampilkan variabel\n",
        "print(kalimat)\n",
        "print(bilangan1)\n",
        "print(bilangan2)"
      ],
      "execution_count": null,
      "outputs": [
        {
          "output_type": "stream",
          "name": "stdout",
          "text": [
            "ini adalah variabel\n",
            "4\n",
            "2.5\n"
          ]
        }
      ]
    },
    {
      "cell_type": "markdown",
      "metadata": {
        "id": "13K6uWE8d-Nx"
      },
      "source": [
        "Latihan 1"
      ]
    },
    {
      "cell_type": "code",
      "metadata": {
        "colab": {
          "base_uri": "https://localhost:8080/"
        },
        "id": "N6vtNWRUeBwW",
        "outputId": "9f46b102-a913-4264-868b-d5afa78a39fe"
      },
      "source": [
        "# buatlah 5 variabel kalian sendiri dengan 5 macam tipe data\n",
        "# lalu tampilkan variabel menggunakan fungsi print\n",
        "\n",
        "# membuat variabel\n",
        "nct127   = 'cherry boom lagu debut'\n",
        "nctu     = 2\n",
        "nctdream = 1.5\n",
        "wayv     = False\n",
        "superm   = 1j + 5\n",
        "\n",
        "# menampilkan variabel\n",
        "\n",
        "print(nct127)\n",
        "print(nctu)\n",
        "print(nctdream)\n",
        "print(wayv)\n",
        "print(superm)"
      ],
      "execution_count": null,
      "outputs": [
        {
          "output_type": "stream",
          "name": "stdout",
          "text": [
            "cherry boom lagu debut\n",
            "2\n",
            "1.5\n",
            "False\n",
            "(5+1j)\n"
          ]
        }
      ]
    },
    {
      "cell_type": "markdown",
      "metadata": {
        "id": "M270MuvUggKM"
      },
      "source": [
        "# Tipe Data"
      ]
    },
    {
      "cell_type": "markdown",
      "metadata": {
        "id": "Ggraaz6yglOK"
      },
      "source": [
        "5 tipe data yaitu \n",
        "1. Integer atau bilangan bulat \n",
        "2. Float atau bilangan desimal \n",
        "3. String atau kalimat \n",
        "4. Boolean yang terdiri dari True dan False \n",
        "5. Complex yang merupakan bilangan kompleks "
      ]
    },
    {
      "cell_type": "code",
      "metadata": {
        "colab": {
          "base_uri": "https://localhost:8080/"
        },
        "id": "z-OdQZy0i6n-",
        "outputId": "b1cec9f0-349b-4ab3-8f3d-4f7782664826"
      },
      "source": [
        "# menampilkan type data\n",
        "print(type(kalimat))\n",
        "print(type(bilangan1))\n",
        "print(type(bilangan2))\n",
        "print(type(bilangan3))\n",
        "print(type(bilangan4))"
      ],
      "execution_count": null,
      "outputs": [
        {
          "output_type": "stream",
          "name": "stdout",
          "text": [
            "<class 'str'>\n",
            "<class 'int'>\n",
            "<class 'float'>\n",
            "<class 'bool'>\n",
            "<class 'complex'>\n"
          ]
        }
      ]
    },
    {
      "cell_type": "markdown",
      "metadata": {
        "id": "v3fzQiycuHee"
      },
      "source": [
        "Latihan 2"
      ]
    },
    {
      "cell_type": "code",
      "metadata": {
        "colab": {
          "base_uri": "https://localhost:8080/"
        },
        "id": "EtDn6P1tuJZO",
        "outputId": "f023fd98-4930-4982-f431-b347704e7ac7"
      },
      "source": [
        "# cek type data variabel yang telah kalian buat pada latihan 1\n",
        "\n",
        "# menampilkan type data\n",
        "print(type(nct127))\n",
        "print(type(nctu))\n",
        "print(type(nctdream))\n",
        "print(type(wayv))\n",
        "print(type(superm))"
      ],
      "execution_count": null,
      "outputs": [
        {
          "output_type": "stream",
          "name": "stdout",
          "text": [
            "<class 'str'>\n",
            "<class 'int'>\n",
            "<class 'float'>\n",
            "<class 'bool'>\n",
            "<class 'complex'>\n"
          ]
        }
      ]
    },
    {
      "cell_type": "markdown",
      "metadata": {
        "id": "7kYQn6OAuz2L"
      },
      "source": [
        "# Konversi Tipe Data"
      ]
    },
    {
      "cell_type": "markdown",
      "metadata": {
        "id": "k-U-M5Biu89G"
      },
      "source": [
        "Syntax Konversi tipe data\n",
        "1. Integer = int()\n",
        "2. Float   = float()\n",
        "3. String  = str()\n",
        "4. Boolean = bool()\n",
        "5. Complex = complex()"
      ]
    },
    {
      "cell_type": "code",
      "metadata": {
        "id": "nnNuggQrwLow"
      },
      "source": [
        "# konversi tipe data integer\n",
        "print(int(bilangan2))\n",
        "print(int(bilangan3))"
      ],
      "execution_count": null,
      "outputs": []
    },
    {
      "cell_type": "code",
      "metadata": {
        "id": "QDZCESmYwxMG"
      },
      "source": [
        "# konversi tipe data float\n",
        "print(float(bilangan1))\n",
        "print(float(bilangan3))"
      ],
      "execution_count": null,
      "outputs": []
    },
    {
      "cell_type": "code",
      "metadata": {
        "id": "kdNIBY9rw-UG"
      },
      "source": [
        "# konversi tipe data string\n",
        "print(str(bilangan1))\n",
        "print(str(bilangan2))\n",
        "print(str(bilangan3))"
      ],
      "execution_count": null,
      "outputs": []
    },
    {
      "cell_type": "code",
      "metadata": {
        "id": "DKOGcPlNxS5u"
      },
      "source": [
        "# konversi tipe data bool\n",
        "print(bool(bilangan2))\n",
        "print(bool(bilangan3))"
      ],
      "execution_count": null,
      "outputs": []
    },
    {
      "cell_type": "code",
      "metadata": {
        "id": "zhk3x_W8xm2E"
      },
      "source": [
        "# konversi tipe data complex\n",
        "print(complex(bilangan1))\n",
        "print(complex(bilangan2))\n",
        "print(complex(bilangan3))"
      ],
      "execution_count": null,
      "outputs": []
    },
    {
      "cell_type": "code",
      "metadata": {
        "id": "oG68crZMx5I5"
      },
      "source": [
        "# konversi tipe data variabel yang telah kalian buat\n",
        "# menjadi berbagai macam tipe data\n",
        "\n",
        "print('-'*20)\n",
        "# konversi tipe data integer\n",
        "print(int(nctu))\n",
        "print(int(nctdream))\n",
        "print(int(wayv))\n",
        "\n",
        "print('-'*20)"
      ],
      "execution_count": null,
      "outputs": []
    },
    {
      "cell_type": "code",
      "metadata": {
        "id": "qsEBo5Uhjybl"
      },
      "source": [
        "# konversi tipe data float\n",
        "print(float(nctu))\n",
        "print(float(nctdream))\n",
        "print(float(wayv))\n",
        "\n",
        "print('-'*20)"
      ],
      "execution_count": null,
      "outputs": []
    },
    {
      "cell_type": "code",
      "metadata": {
        "colab": {
          "base_uri": "https://localhost:8080/"
        },
        "id": "yH6a7iq4jueC",
        "outputId": "e2762e22-35bd-4ba0-f6c2-ff7bc6151251"
      },
      "source": [
        "# konversi tipe data string\n",
        "print(str(nct127))\n",
        "print(str(nctu))\n",
        "print(str(nctdream))\n",
        "print(str(wayv))\n",
        "print(str(superm))\n",
        "\n",
        "print('-'*20)"
      ],
      "execution_count": null,
      "outputs": [
        {
          "output_type": "stream",
          "name": "stdout",
          "text": [
            "cherry boom lagu debut\n",
            "2\n",
            "1.5\n",
            "False\n",
            "(5+1j)\n",
            "--------------------\n"
          ]
        }
      ]
    },
    {
      "cell_type": "code",
      "metadata": {
        "colab": {
          "base_uri": "https://localhost:8080/"
        },
        "id": "KSZXLY9wiRCX",
        "outputId": "6720f571-11e0-40a8-826b-dd12362b83d4"
      },
      "source": [
        "# konversi tipe data bool\n",
        "print(bool(nct127))\n",
        "print(bool(nctu))\n",
        "print(bool(nctdream))\n",
        "\n",
        "print('-'*20)"
      ],
      "execution_count": null,
      "outputs": [
        {
          "output_type": "stream",
          "name": "stdout",
          "text": [
            "True\n",
            "True\n",
            "True\n",
            "--------------------\n"
          ]
        }
      ]
    },
    {
      "cell_type": "code",
      "metadata": {
        "colab": {
          "base_uri": "https://localhost:8080/"
        },
        "id": "336EJ6hojhw-",
        "outputId": "4c74e916-9f9e-4519-fcd8-ec48642705cb"
      },
      "source": [
        "# konversi tipe data complex\n",
        "print(complex(nctu))\n",
        "print(complex(nctdream))\n",
        "print(complex(wayv))\n",
        "print(complex(superm))\n",
        "\n",
        "print('-'*20)"
      ],
      "execution_count": null,
      "outputs": [
        {
          "output_type": "stream",
          "name": "stdout",
          "text": [
            "(2+0j)\n",
            "(1.5+0j)\n",
            "0j\n",
            "(5+1j)\n",
            "--------------------\n"
          ]
        }
      ]
    }
  ]
}