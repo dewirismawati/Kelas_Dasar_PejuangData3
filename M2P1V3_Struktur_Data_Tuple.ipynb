{
  "nbformat": 4,
  "nbformat_minor": 0,
  "metadata": {
    "colab": {
      "name": "Untitled2.ipynb",
      "provenance": [],
      "collapsed_sections": []
    },
    "kernelspec": {
      "name": "python3",
      "display_name": "Python 3"
    },
    "language_info": {
      "name": "python"
    }
  },
  "cells": [
    {
      "cell_type": "markdown",
      "metadata": {
        "id": "Aw6l-5dmMGIP"
      },
      "source": [
        "# Struktur Data Tuple"
      ]
    },
    {
      "cell_type": "markdown",
      "metadata": {
        "id": "Z5tKaaIAMK0-"
      },
      "source": [
        "Tuple adalah jenis dari struktur data yang tidak bisa diubah elemennya. Umumnya Tuple digunakan untuk data yang bersifat sekali tulis, dan dapat dieksekusi lebih cepat. Tuple didefinisikan dengan kurung dan elemen yang dipisahkan dengan koma."
      ]
    },
    {
      "cell_type": "code",
      "metadata": {
        "colab": {
          "base_uri": "https://localhost:8080/"
        },
        "id": "z4GOAqzvM6QE",
        "outputId": "7ce40826-33c9-4260-9728-7da9bfc21224"
      },
      "source": [
        "# Contoh Tuple\n",
        "T1 = (1,\"dua\",True,1+2j)\n",
        "print(\"ini adalah tuple\",T1)"
      ],
      "execution_count": 1,
      "outputs": [
        {
          "output_type": "stream",
          "name": "stdout",
          "text": [
            "ini adalah tuple (1, 'dua', True, (1+2j))\n"
          ]
        }
      ]
    },
    {
      "cell_type": "code",
      "metadata": {
        "colab": {
          "base_uri": "https://localhost:8080/"
        },
        "id": "sQIyeuStNper",
        "outputId": "74d77553-d3b3-4c40-faa0-679a8abe6b1f"
      },
      "source": [
        "# Menampilkan tipe struktur data\n",
        "type(T1)"
      ],
      "execution_count": 3,
      "outputs": [
        {
          "output_type": "execute_result",
          "data": {
            "text/plain": [
              "tuple"
            ]
          },
          "metadata": {},
          "execution_count": 3
        }
      ]
    },
    {
      "cell_type": "markdown",
      "metadata": {
        "id": "FReiAfIMOFz7"
      },
      "source": [
        "Latihan 1"
      ]
    },
    {
      "cell_type": "code",
      "metadata": {
        "colab": {
          "base_uri": "https://localhost:8080/"
        },
        "id": "oJ0cAg22OD_W",
        "outputId": "de821df4-0968-4297-f72c-9976e950e316"
      },
      "source": [
        "# Buatlah Tuplemu sendiri\n",
        "BE = (3,\"life goes on\",\"blue & gray\",\"stay\")\n",
        "print(\"ini adalah track list album BE\",BE)\n",
        "print(type(BE))"
      ],
      "execution_count": 6,
      "outputs": [
        {
          "output_type": "stream",
          "name": "stdout",
          "text": [
            "ini adalah track list album BE (3, 'life goes on', 'blue & gray', 'stay')\n",
            "<class 'tuple'>\n"
          ]
        }
      ]
    },
    {
      "cell_type": "markdown",
      "metadata": {
        "id": "hF7MvyMJQN9z"
      },
      "source": [
        "Sifat-sifat Tuple"
      ]
    },
    {
      "cell_type": "code",
      "metadata": {
        "colab": {
          "base_uri": "https://localhost:8080/"
        },
        "id": "86k1mvgDQRRQ",
        "outputId": "7e240e69-f5b3-4d13-e3ee-c8c5f25aa38e"
      },
      "source": [
        "# Terurut/Ordered\n",
        "T1[0:3]"
      ],
      "execution_count": 28,
      "outputs": [
        {
          "output_type": "execute_result",
          "data": {
            "text/plain": [
              "(1, 'dua', True)"
            ]
          },
          "metadata": {},
          "execution_count": 28
        }
      ]
    },
    {
      "cell_type": "code",
      "metadata": {
        "colab": {
          "base_uri": "https://localhost:8080/",
          "height": 200
        },
        "id": "aqy92AfOQAF1",
        "outputId": "cab56109-7711-49f7-c1c7-ef2dacd670a3"
      },
      "source": [
        "# Tidak bisa diganti/Immutable\n",
        "T1[2] = \"manusia\"\n",
        "print(\"tampilkan T1 setelah diganti elemennya\",T1)"
      ],
      "execution_count": 8,
      "outputs": [
        {
          "output_type": "error",
          "ename": "TypeError",
          "evalue": "ignored",
          "traceback": [
            "\u001b[0;31m---------------------------------------------------------------------------\u001b[0m",
            "\u001b[0;31mTypeError\u001b[0m                                 Traceback (most recent call last)",
            "\u001b[0;32m<ipython-input-8-9a517bacb676>\u001b[0m in \u001b[0;36m<module>\u001b[0;34m()\u001b[0m\n\u001b[1;32m      1\u001b[0m \u001b[0;31m# Tidak bisa diganti/Immutable\u001b[0m\u001b[0;34m\u001b[0m\u001b[0;34m\u001b[0m\u001b[0;34m\u001b[0m\u001b[0m\n\u001b[0;32m----> 2\u001b[0;31m \u001b[0mT1\u001b[0m\u001b[0;34m[\u001b[0m\u001b[0;36m2\u001b[0m\u001b[0;34m]\u001b[0m \u001b[0;34m=\u001b[0m \u001b[0;34m\"manusia\"\u001b[0m\u001b[0;34m\u001b[0m\u001b[0;34m\u001b[0m\u001b[0m\n\u001b[0m\u001b[1;32m      3\u001b[0m \u001b[0mprint\u001b[0m\u001b[0;34m(\u001b[0m\u001b[0;34m\"tampilkan T1 setelah diganti elemennya\"\u001b[0m\u001b[0;34m,\u001b[0m\u001b[0mT1\u001b[0m\u001b[0;34m)\u001b[0m\u001b[0;34m\u001b[0m\u001b[0;34m\u001b[0m\u001b[0m\n",
            "\u001b[0;31mTypeError\u001b[0m: 'tuple' object does not support item assignment"
          ]
        }
      ]
    },
    {
      "cell_type": "code",
      "metadata": {
        "colab": {
          "base_uri": "https://localhost:8080/"
        },
        "id": "_Ayy2GK5RSJq",
        "outputId": "7154e233-9cdc-400a-f237-b830d039484b"
      },
      "source": [
        "# Dapat Diindeks/Slicing\n",
        "print(\"elemen kedua dari tuple T1 adalah\",T1[1])\n",
        "(\"-\"*20)\n",
        "print(\"elemen ke satu dua tuple BE adalah\",BE[1])"
      ],
      "execution_count": 23,
      "outputs": [
        {
          "output_type": "stream",
          "name": "stdout",
          "text": [
            "elemen kedua dari tuple T1 adalah dua\n",
            "elemen ke satu dua tuple BE adalah life goes on\n"
          ]
        }
      ]
    },
    {
      "cell_type": "code",
      "metadata": {
        "colab": {
          "base_uri": "https://localhost:8080/"
        },
        "id": "itIcWnLmR4RR",
        "outputId": "fcddedd9-8cd8-4e63-aeba-a798a9ae2d93"
      },
      "source": [
        "# Dapat Diijinkan Duplikasi\n",
        "T2 = (2,2.4,True,2.4)\n",
        "print(T2)\n",
        "(\"-\"*20)\n",
        "\n",
        "BE = (3,\"life goes on\",\"blue & gray\",\"stay\",\"stay\")\n",
        "BE"
      ],
      "execution_count": 20,
      "outputs": [
        {
          "output_type": "stream",
          "name": "stdout",
          "text": [
            "(2, 2.4, True, 2.4)\n"
          ]
        },
        {
          "output_type": "execute_result",
          "data": {
            "text/plain": [
              "(3, 'life goes on', 'blue & gray', 'stay', 'stay')"
            ]
          },
          "metadata": {},
          "execution_count": 20
        }
      ]
    },
    {
      "cell_type": "markdown",
      "metadata": {
        "id": "mJxyvlt_SYPX"
      },
      "source": [
        "Menggabungkan Tuple"
      ]
    },
    {
      "cell_type": "code",
      "metadata": {
        "colab": {
          "base_uri": "https://localhost:8080/"
        },
        "id": "0UBCn-VmSc1z",
        "outputId": "83ebc23e-b37a-43c1-c4f6-53cef9c5e5ff"
      },
      "source": [
        "# Menggabungkan Tuple\n",
        "T3 = T1 + T2\n",
        "print(T3)"
      ],
      "execution_count": 16,
      "outputs": [
        {
          "output_type": "stream",
          "name": "stdout",
          "text": [
            "(1, 'dua', True, (1+2j), 2, 2.4, True, 2.4)\n"
          ]
        }
      ]
    },
    {
      "cell_type": "markdown",
      "metadata": {
        "id": "WPgbd3pnSrid"
      },
      "source": [
        "Latihan 2"
      ]
    },
    {
      "cell_type": "code",
      "metadata": {
        "colab": {
          "base_uri": "https://localhost:8080/"
        },
        "id": "WnxOs8cbStgT",
        "outputId": "c148bfee-e540-4da7-ad4d-4e5690d79d08"
      },
      "source": [
        "# Buatlah tuple kedua lalu gabungkan 2 tuple yang kamu buat\n",
        "LYS = (\"answer\",\"her\",\"tear\")\n",
        "print(\"ini adalah versi dari album Love Yourself\",LYS)\n",
        "print(\"-\"*20)\n",
        "\n",
        "# gabungkan 2 tuple\n",
        "Bangtan = BE + LYS\n",
        "print(Bangtan)"
      ],
      "execution_count": 19,
      "outputs": [
        {
          "output_type": "stream",
          "name": "stdout",
          "text": [
            "ini adalah versi dari album Love Yourself ('answer', 'her', 'tear')\n",
            "--------------------\n",
            "(3, 'life goes on', 'blue & gray', 'stay', 'answer', 'her', 'tear')\n"
          ]
        }
      ]
    }
  ]
}