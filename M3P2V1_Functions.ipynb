{
  "nbformat": 4,
  "nbformat_minor": 0,
  "metadata": {
    "colab": {
      "name": "M3P2V1_Functions.ipynb",
      "provenance": [],
      "collapsed_sections": []
    },
    "kernelspec": {
      "name": "python3",
      "display_name": "Python 3"
    },
    "language_info": {
      "name": "python"
    }
  },
  "cells": [
    {
      "cell_type": "markdown",
      "metadata": {
        "id": "u5ETYJmy_NBb"
      },
      "source": [
        "# Functions"
      ]
    },
    {
      "cell_type": "markdown",
      "metadata": {
        "id": "_yZ6u8mQGrf9"
      },
      "source": [
        "Function(Fungsi) adalah sebuah blok statement yang hanya akan dijalankan saat ia dipanggil. \n",
        "\n",
        "Fungsi len() untuk mengukur jumlah eleemen dalam sebuah list dan fungsi print() untuk menampilkan pesan pada layar knsol merupakan contoh dari bentuk fungsi yang telah disediakan oleh bahasa pemrograman Python atau dengan kata lain built-in functions.\n",
        "\n",
        "Selain fungsi yang telah disediakan oleh Python, Python mengizinkan untuk mendeklarasikan fungsi dalam kode yang dituliskan yang dikenal dengan user defined function.\n",
        "```\n",
        "def nama_fungsi(argument):\n",
        "    statement_1\n",
        "    -\n",
        "    statement_n\n",
        "    return returned_value\n",
        "```\n",
        "\n",
        "\n",
        "*   **nama_fungsi** adalah nama untuk fungsi yang anda definisikan, memiliki aturan seperti penamaan variabel\n",
        "*   **argument** adalah variabel masukan ke fungsi, bisa tanpa variabel,satu variabel atau lebih.\n",
        "*   **statement_1** ...statement_n adalah algoritma yang telah anda transfer dalam bahasa Python yang merupakan inti dari fungsi yang anda definisikan. Seluruh statement adalah menjorok(indent) kedalam seperti yang pernah anda pelajari pada conditioning dan looping.\n",
        "*   **return_value** adalah variabel output dari fungsi Anda, bisa tanpa variabel, satu variabel atau lebih."
      ]
    },
    {
      "cell_type": "markdown",
      "metadata": {
        "id": "0tvnOn1pF7nX"
      },
      "source": [
        "# Argument dan Parameter"
      ]
    },
    {
      "cell_type": "markdown",
      "metadata": {
        "id": "jDu-K1kdGwb-"
      },
      "source": [
        "*   **Parameter** adalah variabel yang digunakan dalam deklarasi fungsi\n",
        "*   **Argument** adalah nilai yang diberikan saat pemanggilan fungsi."
      ]
    },
    {
      "cell_type": "code",
      "metadata": {
        "colab": {
          "base_uri": "https://localhost:8080/"
        },
        "id": "l9PGFQNK5mOk",
        "outputId": "8c70ab0b-898e-4aa2-cee9-9f58c9ba2989"
      },
      "source": [
        "def print_nama(nama):    # 'nama' adalah parameter\n",
        "    print(nama)\n",
        "    \n",
        "print_nama('Budi')       # 'Budi' adalah argument"
      ],
      "execution_count": null,
      "outputs": [
        {
          "output_type": "stream",
          "name": "stdout",
          "text": [
            "Budi\n"
          ]
        }
      ]
    },
    {
      "cell_type": "markdown",
      "metadata": {
        "id": "zuSj-pibIBHv"
      },
      "source": [
        "# Argument posisi dan kata kunci"
      ]
    },
    {
      "cell_type": "markdown",
      "metadata": {
        "id": "4bluAwXLIF8g"
      },
      "source": [
        "Kita bisa menyatakan argumen sebagai argumen posisi atau kata kunci. Beberapa manfaat argument kata kunci dapat berupa:\n",
        "*   Kita dapat menyebut argumen dengan nama mereka untuk memperjelas apa yang mereka wakili\n",
        "*   Kita dapat mengatur argumen dengan cara yang membuatnya paling mudah dibaca"
      ]
    },
    {
      "cell_type": "code",
      "metadata": {
        "colab": {
          "base_uri": "https://localhost:8080/"
        },
        "id": "KTydQCWpItI1",
        "outputId": "39e8054e-6739-4ba1-abd8-29873cb48343"
      },
      "source": [
        "def angka(a, b, c):\n",
        "    print(a, b, c)\n",
        "\n",
        "# argumen posisi\n",
        "# argumen berdasarkan posisinya\n",
        "angka(1, 2, 3)\n",
        "\n",
        "# argumen berdasarkan kata kuncinya\n",
        "angka(a=1, b=2, c=3)\n",
        "angka(c=3, b=2, a=1)\n",
        "# Catatan: jika sudah diberi kunci maka urutan tidak penting\n",
        "\n",
        "# campuran antara argumen posisi dan argumen kata kunci\n",
        "angka(1, b=2, c=3)\n",
        "\n",
        "# Ini tidak diijinkan:\n",
        "# foo(1, b=2, 3) # argumen posisional setelah argumen kunci\n",
        "# foo(1, b=2, a=3) #terdapat dua nilai untuk argumen kunci 'a'"
      ],
      "execution_count": null,
      "outputs": [
        {
          "output_type": "stream",
          "name": "stdout",
          "text": [
            "1 2 3\n",
            "1 2 3\n",
            "1 2 3\n",
            "1 2 3\n"
          ]
        }
      ]
    },
    {
      "cell_type": "markdown",
      "metadata": {
        "id": "fyySh3qZLwo7"
      },
      "source": [
        "# Argument Default"
      ]
    },
    {
      "cell_type": "markdown",
      "metadata": {
        "id": "IoWKXy0ZL3p0"
      },
      "source": [
        "Fungsi memiliki argumen default dengan nilai yang telah ditentukan sebelumnya. Argumen ini dapat ditinggalkan dan nilai default kemudian diteruskan ke Fungsi, atau argumen dapat dirubah dengan nilai yang berbeda. Perhatikan bahwa argumen default harus ditentukan sebagai **parameter terakhir** dalam suatu fungsi"
      ]
    },
    {
      "cell_type": "code",
      "metadata": {
        "colab": {
          "base_uri": "https://localhost:8080/"
        },
        "id": "Jt3JYrPPMs8I",
        "outputId": "df3b39bd-fae4-44f1-fc81-442af5862ae4"
      },
      "source": [
        "# Argumen Default\n",
        "def angka2(a, b, c, d=4):\n",
        "    print(a, b, c, d)\n",
        "\n",
        "angka2(1, 2, 3, 4)\n",
        "angka2(1, b=2, c=3, d=100)\n",
        "\n",
        "# Argumen default harus diletakkan terakhir"
      ],
      "execution_count": null,
      "outputs": [
        {
          "output_type": "stream",
          "name": "stdout",
          "text": [
            "1 2 3 4\n",
            "1 2 3 100\n"
          ]
        }
      ]
    },
    {
      "cell_type": "markdown",
      "metadata": {
        "id": "0ga0T-y4No7d"
      },
      "source": [
        "# Praktik membuat fungsi"
      ]
    },
    {
      "cell_type": "code",
      "metadata": {
        "colab": {
          "base_uri": "https://localhost:8080/"
        },
        "id": "laa9QnSnNtl8",
        "outputId": "e2e1c806-7aee-46b1-dae4-c5f8d3647f6d"
      },
      "source": [
        "x = 1\n",
        "y = 2\n",
        "x*y"
      ],
      "execution_count": null,
      "outputs": [
        {
          "output_type": "execute_result",
          "data": {
            "text/plain": [
              "2"
            ]
          },
          "metadata": {},
          "execution_count": 6
        }
      ]
    },
    {
      "cell_type": "code",
      "metadata": {
        "colab": {
          "base_uri": "https://localhost:8080/"
        },
        "id": "XlusNHgPN2eB",
        "outputId": "4f973127-32f1-4162-ff49-c194be14675e"
      },
      "source": [
        "def penjumlahan(x,y):  # input\n",
        "  a = x + y            # proses\n",
        "  return a             # output\n",
        "\n",
        "penjumlahan(1,2)       # menggunakan fungsi"
      ],
      "execution_count": null,
      "outputs": [
        {
          "output_type": "execute_result",
          "data": {
            "text/plain": [
              "3"
            ]
          },
          "metadata": {},
          "execution_count": 8
        }
      ]
    },
    {
      "cell_type": "markdown",
      "metadata": {
        "id": "0pIpJdDhOkmF"
      },
      "source": [
        "Penjumlahan yang memungkinkan untuk tiga bilangan"
      ]
    },
    {
      "cell_type": "code",
      "metadata": {
        "colab": {
          "base_uri": "https://localhost:8080/"
        },
        "id": "uO4kWloEOjhd",
        "outputId": "2df65281-d440-40ea-e9a0-89fe17d5eab3"
      },
      "source": [
        "def penjumlahan(x,y,z=None):\n",
        "  if (z==None):\n",
        "    return x+y\n",
        "  else:\n",
        "    return x+y+z\n",
        "\n",
        "print(penjumlahan(1, 2))\n",
        "print(penjumlahan(1, 2, 3))"
      ],
      "execution_count": null,
      "outputs": [
        {
          "output_type": "stream",
          "name": "stdout",
          "text": [
            "3\n",
            "6\n"
          ]
        }
      ]
    },
    {
      "cell_type": "markdown",
      "metadata": {
        "id": "IQcqJq0GPlYs"
      },
      "source": [
        "Menyimpan hasil fungsi dalam variabel"
      ]
    },
    {
      "cell_type": "code",
      "metadata": {
        "colab": {
          "base_uri": "https://localhost:8080/"
        },
        "id": "kilIByKtPjNv",
        "outputId": "a9b81ea1-a0bd-4ed7-f0f5-2f0ed87134e1"
      },
      "source": [
        "def penjumlahan(x,y):\n",
        "    return x+y\n",
        "  \n",
        "a = penjumlahan\n",
        "a(1,2)"
      ],
      "execution_count": null,
      "outputs": [
        {
          "output_type": "execute_result",
          "data": {
            "text/plain": [
              "3"
            ]
          },
          "metadata": {},
          "execution_count": 11
        }
      ]
    },
    {
      "cell_type": "markdown",
      "metadata": {
        "id": "kRdbZBa6QOjs"
      },
      "source": [
        "# Latihan 1\n",
        " \n",
        "Buatlah Funtion pythagoras dengan input argumennya panjang tinggi dan alas segitiga untuk menghasilkan output nilai panjang sisi miring."
      ]
    },
    {
      "cell_type": "code",
      "metadata": {
        "colab": {
          "base_uri": "https://localhost:8080/"
        },
        "id": "G3y2prWcQ0Fa",
        "outputId": "d2654256-a818-4f89-f9ae-faf0a0847593"
      },
      "source": [
        "# pythagoras \n",
        "\n",
        "def sisi_miring(x,y):\n",
        "  z = (x**2 + y**2)**(1/2)\n",
        "  return z\n",
        "\n",
        "sisi_miring(3,4)\n"
      ],
      "execution_count": 2,
      "outputs": [
        {
          "output_type": "execute_result",
          "data": {
            "text/plain": [
              "5.0"
            ]
          },
          "metadata": {},
          "execution_count": 2
        }
      ]
    },
    {
      "cell_type": "markdown",
      "metadata": {
        "id": "3ZDWMlSqQ20d"
      },
      "source": [
        "# Latihan 2\n",
        "\n",
        "Buatlah Funtion luas permukaan balok dengan input argumennya panjang, lebar, dan tinggi dari balok untuk menghasilkan output nilai luas permukaan balok tersebut."
      ]
    },
    {
      "cell_type": "code",
      "metadata": {
        "colab": {
          "base_uri": "https://localhost:8080/"
        },
        "id": "SI-3MYArQ1WZ",
        "outputId": "3edb8ccb-d177-4a40-cb75-9a7246c2649a"
      },
      "source": [
        "# Luas permukaan Balok\n",
        "\n",
        "def luaspermukaan(x,y,z):\n",
        "    a = 2*(x*y) + 2*(x*z) + 2*(y*z)\n",
        "    return a\n",
        "\n",
        "luaspermukaan(2,3,4) \n",
        "    "
      ],
      "execution_count": 3,
      "outputs": [
        {
          "output_type": "execute_result",
          "data": {
            "text/plain": [
              "52"
            ]
          },
          "metadata": {},
          "execution_count": 3
        }
      ]
    }
  ]
}