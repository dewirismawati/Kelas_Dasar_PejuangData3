{
  "nbformat": 4,
  "nbformat_minor": 0,
  "metadata": {
    "colab": {
      "name": "Untitled",
      "provenance": [],
      "collapsed_sections": []
    },
    "kernelspec": {
      "name": "python3",
      "display_name": "Python 3"
    },
    "language_info": {
      "name": "python"
    }
  },
  "cells": [
    {
      "cell_type": "markdown",
      "metadata": {
        "id": "D3VOAlfZgB6E"
      },
      "source": [
        "# Operator"
      ]
    },
    {
      "cell_type": "markdown",
      "metadata": {
        "id": "hDNCqXq4gYSS"
      },
      "source": [
        "Operator = Simbol-simbol yang dapat digunakan untuk mengubah nilai dari satu variabel dengan melibatkan satu atau lebih variabel dan literal. \n",
        "tipe-tipe operator \n",
        "1. Operator Aritmatika \n",
        "2. Operator Assignment \n",
        "3. Operator Pembanding \n",
        "4. Operator Logika \n",
        "5. Operator Membership "
      ]
    },
    {
      "cell_type": "markdown",
      "metadata": {
        "id": "M_969fw4goZM"
      },
      "source": [
        "# Operator Aritmatika"
      ]
    },
    {
      "cell_type": "markdown",
      "metadata": {
        "id": "syY_2XxVgtIX"
      },
      "source": [
        "Operator Aritmatika dinganakan untuk melakukan operasi matematika yang umum,\n",
        "\n",
        "macam-macam operator aritmatika:\n"
      ]
    },
    {
      "cell_type": "code",
      "metadata": {
        "colab": {
          "base_uri": "https://localhost:8080/",
          "height": 130
        },
        "id": "cfnYtH5elZtx",
        "outputId": "735dcfb2-72be-4337-b8d9-a393c521e1ef"
      },
      "source": [
        "+  : Pejumlahan \n",
        "-  : Pengurangan \n",
        "*  : Perkalian \n",
        "/  : Pembagian \n",
        "%  : Modulus  \n",
        "** : Perpangkatan \n",
        "// : Pembagian dengan hasil pembulatan flooring, "
      ],
      "execution_count": 3,
      "outputs": [
        {
          "output_type": "error",
          "ename": "SyntaxError",
          "evalue": "ignored",
          "traceback": [
            "\u001b[0;36m  File \u001b[0;32m\"<ipython-input-3-234d90d42ea8>\"\u001b[0;36m, line \u001b[0;32m1\u001b[0m\n\u001b[0;31m    +  : Pejumlahan\u001b[0m\n\u001b[0m       ^\u001b[0m\n\u001b[0;31mSyntaxError\u001b[0m\u001b[0;31m:\u001b[0m invalid syntax\n"
          ]
        }
      ]
    },
    {
      "cell_type": "code",
      "metadata": {
        "id": "RZX7J59Tlel9"
      },
      "source": [
        "# Contoh penggunaan aritmatika\n",
        "\n",
        "#Penjumlahan\n",
        "print('Penjumlahan')\n",
        "print(2+2)\n",
        "#Pengurangan\n",
        "print('-'*20)\n",
        "print('Pengurangan')\n",
        "print(2-3)\n",
        "#Perkalian\n",
        "print('-'*20)\n",
        "print('Perkalian')\n",
        "print(2*3)\n",
        "#Pembagian\n",
        "print('-'*20)\n",
        "print('Pembagian')\n",
        "print(2/3)\n",
        "#Modulus\n",
        "print('-'*20)\n",
        "print('Modulus')\n",
        "print(2%3)\n",
        "#Perpangkatan\n",
        "print('-'*20)\n",
        "print('Perpangkatan')\n",
        "print(2**3)\n",
        "#Pembagian Pembulatan Floring\n",
        "print('-'*20)\n",
        "print('Pembagian Pembulatan Floring')\n",
        "print(3//2)\n",
        "\n"
      ],
      "execution_count": null,
      "outputs": []
    },
    {
      "cell_type": "markdown",
      "metadata": {
        "id": "zLSfFNuQ_m9X"
      },
      "source": [
        "Latihan Operator 1"
      ]
    },
    {
      "cell_type": "code",
      "metadata": {
        "id": "LqTH5N3tzpYL"
      },
      "source": [
        "# Buatlah program penenerapan opetator aritmatika \n",
        "# dengan nilai-nilai yang berbeda dari contoh di atas \n",
        "\n",
        "#Penjumlahan\n",
        "print('-'*20)\n",
        "print('Penjumlahan')\n",
        "print(3+4)\n",
        "#Pengurangan\n",
        "print('-'*20)\n",
        "print('Pengurangan')\n",
        "print(6-3)\n",
        "#Perkalian\n",
        "print('-'*20)\n",
        "print('Perkalian')\n",
        "print(3*5)\n",
        "#Pembagian \n",
        "print('_'*20)\n",
        "print('Pembagian')\n",
        "print(4/2)\n",
        "#Modulus\n",
        "print('-'*20)\n",
        "print('Modulus')\n",
        "print(8%5)\n",
        "#Perpangkatan\n",
        "print('-'*20)\n",
        "print('Perpangkatan')\n",
        "print(2**2)\n",
        "#Pembagian Pembulatan Floring\n",
        "print('-'*20)\n",
        "print('Pembagian Pembulatan Floring')\n",
        "print(5//2)\n",
        "\n"
      ],
      "execution_count": null,
      "outputs": []
    },
    {
      "cell_type": "markdown",
      "metadata": {
        "id": "ufFjCKij7qsd"
      },
      "source": [
        "# Operator Assigment "
      ]
    },
    {
      "cell_type": "markdown",
      "metadata": {
        "id": "0GhCDtZQ7uec"
      },
      "source": [
        "Operator assignment digunakan untuk menyimpan nilai menjadi suatu variabel \n"
      ]
    },
    {
      "cell_type": "code",
      "metadata": {
        "id": "C8ZXtdSR8CFi"
      },
      "source": [
        "= contonya \n",
        "x = 5 -> X = 5 \n",
        "+=  : contonya x = x + 5 -> X += 5 \n",
        "-=  : contonya x = x - 5 -> X -= 5\n",
        "*=  :contonya x = x * 5 -> X *= 5\n",
        "/=  : contonya x = x / 5 -> X /= 5 \n",
        "%   : contonya x = x % 5 -> X %= 5 \n",
        "//= : contonya x = x // 5 -> X //= 5 \n",
        "**= : contonya x = x ** 5 -> X **= 5 \n"
      ],
      "execution_count": null,
      "outputs": []
    },
    {
      "cell_type": "code",
      "metadata": {
        "id": "Z9AgLIpP9DyG"
      },
      "source": [
        "# Contoh penggunaan operator Assignment \n",
        "\n",
        "# Penjumlahan \n",
        "print(\"Penjumlahan\") \n",
        "x=5 \n",
        "x=x+5 \n",
        "print(x) \n",
        "x=5 \n",
        "x+=3 \n",
        "print(x) \n",
        "print('-'*20)\n",
        "\n",
        "#Pengurangan \n",
        "print(\"Pengurangan\") \n",
        "X=5 \n",
        "x=x-5 \n",
        "print(x) \n",
        "x=5 \n",
        "x-=3 \n",
        "print(x) \n",
        "print('-'*20) \n",
        "\n",
        "#Perkalian \n",
        "print(\"Peerkalian\") \n",
        "x=5 \n",
        "x=x*5 \n",
        "print(x) \n",
        "x=5 \n",
        "x*=3 \n",
        "print(x) \n",
        "print('-'*20) \n",
        "\n",
        "#Pembagian \n",
        "print('Pembagian') \n",
        "x=5 \n",
        "x=x/5 \n",
        "print(x) \n",
        "x=5 \n",
        "x/=3 \n",
        "print(x) \n",
        "print('-'*20) \n",
        "\n",
        "#Modulus \n",
        "print('Modulus') \n",
        "x=5 \n",
        "x=x%5 \n",
        "print(x) \n",
        "x=5 \n",
        "x%=3 \n",
        "print(x) \n",
        "print('-'*20) \n",
        "\n",
        "#Pembagian Floring \n",
        "print(\"Pembagian Floring\") \n",
        "x=5 \n",
        "x=x//5 \n",
        "print(x) \n",
        "x=5 \n",
        "x//=3 \n",
        "print(x) \n",
        "print(\"-\"*20) \n",
        "\n",
        "#Perpangkatan \n",
        "print('Perpangkatan') \n",
        "x=5 \n",
        "x=x**5 \n",
        "print(x) \n",
        "x=5 \n",
        "x**=3 \n",
        "print(x) \n",
        "print('-'*20) \n"
      ],
      "execution_count": null,
      "outputs": []
    },
    {
      "cell_type": "markdown",
      "metadata": {
        "id": "3Y_1QCa_DsrM"
      },
      "source": [
        "Latihan Operator 2"
      ]
    },
    {
      "cell_type": "code",
      "metadata": {
        "id": "m6WCzLjuDwv9"
      },
      "source": [
        "# Buatlah program penenerapan opetator assignment \n",
        "# dengan nilai-nilai yang berbeda dari contoh di atas\n",
        "\n",
        "# Penjumlahan \n",
        "print(\"Penjumlahan\") \n",
        "x=3 \n",
        "x=x+8\n",
        "print(x) \n",
        "x=3\n",
        "x+=4\n",
        "print(x) \n",
        "print('-'*20)\n",
        "\n",
        "#Pengurangan \n",
        "print(\"Pengurangan\") \n",
        "x=3\n",
        "x=x-5\n",
        "print(x) \n",
        "x=5\n",
        "x-=3 \n",
        "print(x) \n",
        "print('-'*20) \n",
        "\n",
        "#Perkalian \n",
        "print(\"Peerkalian\") \n",
        "x=14 \n",
        "x=x*3\n",
        "print(x) \n",
        "x=3\n",
        "x*=2 \n",
        "print(x) \n",
        "print('-'*20) \n",
        "\n",
        "#Pembagian \n",
        "print('Pembagian') \n",
        "x=5 \n",
        "x=x/2\n",
        "print(x) \n",
        "x=15 \n",
        "x/=3 \n",
        "print(x) \n",
        "print('-'*20) \n",
        "\n",
        "#Modulus \n",
        "print('Modulus') \n",
        "x=20\n",
        "x=x%3 \n",
        "print(x) \n",
        "x=15\n",
        "x%=3 \n",
        "print(x) \n",
        "print('-'*20) \n",
        "\n",
        "#Pembagian Floring \n",
        "print(\"Pembagian Floring\") \n",
        "x=7\n",
        "x=x//3\n",
        "print(x) \n",
        "x=20\n",
        "x//=4\n",
        "print(x) \n",
        "print(\"-\"*20) \n",
        "\n",
        "#Perpangkatan \n",
        "print('Perpangkatan') \n",
        "x=4\n",
        "x=x**3 \n",
        "print(x) \n",
        "x=4\n",
        "x**=4 \n",
        "print(x) \n",
        "print('-'*20)"
      ],
      "execution_count": null,
      "outputs": []
    },
    {
      "cell_type": "markdown",
      "metadata": {
        "id": "Cp2DmycXraFG"
      },
      "source": [
        "# Operator Pembanding"
      ]
    },
    {
      "cell_type": "markdown",
      "metadata": {
        "id": "_s-aXdS9rqY8"
      },
      "source": [
        "Operator pembanding digunakan untuk membandingkan 2 nilai atau variabel macam-macam operator pembanding: "
      ]
    },
    {
      "cell_type": "code",
      "metadata": {
        "id": "hXa7jFlutGTa"
      },
      "source": [
        "== -> samadengan\n",
        "!= -> tidak samadengan\n",
        ">  -> lebih dari\n",
        "<  -> kurang dari\n",
        ">= -> lebih dari samadengan\n",
        "<= -> kurang dari sama dengan"
      ],
      "execution_count": null,
      "outputs": []
    },
    {
      "cell_type": "code",
      "metadata": {
        "id": "HQFNYV5tsDq1"
      },
      "source": [
        "# Contoh penggunaan operator pembanding\n",
        "\n",
        "print(2==2)\n",
        "print(2!=2)\n",
        "print(2>2)\n",
        "print(2<2)\n",
        "print(2>=2)\n",
        "print(2<=2)"
      ],
      "execution_count": null,
      "outputs": []
    },
    {
      "cell_type": "markdown",
      "metadata": {
        "id": "9UUDnE4lt4Jz"
      },
      "source": [
        "Latihan Operator 3"
      ]
    },
    {
      "cell_type": "code",
      "metadata": {
        "id": "MPxIgB4lt1wC"
      },
      "source": [
        "# Buatlah program penerapan operator pembanding\n",
        "# dengan nilai-nilai yang berbeda dari contoh di atas\n",
        "\n",
        "print(6==6)\n",
        "print(5!=3)\n",
        "print(3>2)\n",
        "print(3<2)\n",
        "print(3>=3)\n",
        "print(9<=3)\n"
      ],
      "execution_count": null,
      "outputs": []
    },
    {
      "cell_type": "markdown",
      "metadata": {
        "id": "V9S3Z2vRu_H0"
      },
      "source": [
        "# Operator Logika"
      ]
    },
    {
      "cell_type": "markdown",
      "metadata": {
        "id": "KwWfPicXvI6x"
      },
      "source": [
        "Operator logika digunakan untuk mengkombinasikan statment-statment kondisional\n",
        "\n",
        "macam macam operator logika:"
      ]
    },
    {
      "cell_type": "code",
      "metadata": {
        "id": "KRtTLLTdve-x"
      },
      "source": [
        "and -> kondisi menjadi benar apabila semua statementnya benar \n",
        "or -> kondisi menjadi benar apabila salah satu statementnya ada yang benar \n",
        "not -> membalik hasil dari benar ke salah dan salah ke benar "
      ],
      "execution_count": null,
      "outputs": []
    },
    {
      "cell_type": "code",
      "metadata": {
        "id": "F1xLnL3jv5mH"
      },
      "source": [
        "# Contoh penggunaan operator logika\n",
        "\n",
        "print(True and False)\n",
        "print(False or False)\n",
        "print(not False and True)"
      ],
      "execution_count": null,
      "outputs": []
    },
    {
      "cell_type": "markdown",
      "metadata": {
        "id": "o4gVyuO6xLzt"
      },
      "source": [
        "Latihan Operator 4"
      ]
    },
    {
      "cell_type": "code",
      "metadata": {
        "id": "5x5bELknxTKh"
      },
      "source": [
        "# Contoh penggunaan operator logika\n",
        "\n",
        "print(True and True)\n",
        "print(True or False)\n",
        "print(not True and True)\n"
      ],
      "execution_count": null,
      "outputs": []
    },
    {
      "cell_type": "markdown",
      "metadata": {
        "id": "CuiB6inTyZw0"
      },
      "source": [
        "# Operator Keanggotaan"
      ]
    },
    {
      "cell_type": "markdown",
      "metadata": {
        "id": "94OEziAM0OHA"
      },
      "source": [
        "Operator keanggotaan digunakan untuk menguji apakah urutan disajikan dalam suatu objek \n",
        "\n",
        "macam macam operator keanggotaan:"
      ]
    },
    {
      "cell_type": "code",
      "metadata": {
        "id": "aTOTdIDw0-xf"
      },
      "source": [
        "in     -> return True ketika nilai tertentu dalam sebuah urutan ada\n",
        "not in -> return True ketika nilai tertentu dalam sebuah urutan tidak ada"
      ],
      "execution_count": null,
      "outputs": []
    },
    {
      "cell_type": "code",
      "metadata": {
        "colab": {
          "base_uri": "https://localhost:8080/"
        },
        "id": "TuZTaeqR3s3X",
        "outputId": "2a3a8754-7387-4414-8a0a-008c0df990fd"
      },
      "source": [
        "# Contoh penggunaan operator keanggotaan\n",
        "\n",
        "a=(1,2,3,4,5,6)\n",
        "b=2\n",
        "\n",
        "print(b in a)\n",
        "\n",
        "print('-'*20)\n",
        "a=(1,2,3,4,5,6)\n",
        "b=7\n",
        "print(b not in a)"
      ],
      "execution_count": 11,
      "outputs": [
        {
          "output_type": "stream",
          "name": "stdout",
          "text": [
            "True\n",
            "--------------------\n",
            "True\n"
          ]
        }
      ]
    },
    {
      "cell_type": "markdown",
      "metadata": {
        "id": "f1jL5rah5sdE"
      },
      "source": [
        "Latihan Operator 5"
      ]
    },
    {
      "cell_type": "code",
      "metadata": {
        "colab": {
          "base_uri": "https://localhost:8080/"
        },
        "id": "PtHLF1wm3sz1",
        "outputId": "c5e4ed9b-435f-4b86-adb0-341dce92b01b"
      },
      "source": [
        "# Buatlah program penerapan operator keanggotaan/membership\n",
        "# dengan nilai-nilai yang berbeda dari contoh di atas \n",
        "\n",
        "x=(2,3,5)\n",
        "y=4\n",
        "\n",
        "print(b in a)\n",
        "\n",
        "print('-'*20)\n",
        "a=(2,4,6,8)\n",
        "b=5\n",
        "print(b not in a)"
      ],
      "execution_count": 12,
      "outputs": [
        {
          "output_type": "stream",
          "name": "stdout",
          "text": [
            "False\n",
            "--------------------\n",
            "True\n"
          ]
        }
      ]
    }
  ]
}