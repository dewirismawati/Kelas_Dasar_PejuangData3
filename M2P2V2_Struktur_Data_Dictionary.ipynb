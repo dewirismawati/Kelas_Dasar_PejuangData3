{
  "nbformat": 4,
  "nbformat_minor": 0,
  "metadata": {
    "colab": {
      "name": "M2P2V2_Struktur_Data_Dictionary.ipynb",
      "provenance": [],
      "collapsed_sections": []
    },
    "kernelspec": {
      "display_name": "Python 3",
      "name": "python3"
    },
    "language_info": {
      "name": "python"
    }
  },
  "cells": [
    {
      "cell_type": "markdown",
      "metadata": {
        "id": "Nidl5F-s2hGJ"
      },
      "source": [
        "# Dictionary"
      ]
    },
    {
      "cell_type": "markdown",
      "metadata": {
        "id": "aXLnvIJh3DQ0"
      },
      "source": [
        "Dictionary pada Python adalah kumpulan pasangan kunci-nilai(pair of key-value) yang berurutan. Dictionary dapat digunakan untuk menyimpan data kecil hingga besar. Untuk mengakses datanya, kita harus mengetahui kuncinya(key). Pada Python, dictionary didefinisikan dengan kurawal dan tambahan definisi berikut: \n",
        "\n",
        "\n",
        "*   Setiap elemen pair key-value dipisahkan dengan koma(,)\n",
        "*   Key dan Value dipisihkan dengan titik dua(:)\n",
        "*   Key dan Value dapat berupa tipe variabel/obyek apapun.\n"
      ]
    },
    {
      "cell_type": "code",
      "metadata": {
        "colab": {
          "base_uri": "https://localhost:8080/"
        },
        "id": "a0tXt4Gv3BXP",
        "outputId": "80585071-fbd4-443a-d849-105c1d176248"
      },
      "source": [
        "L1 = [1,'dua',True,(2+3j),(2+3j)]\n",
        "L1"
      ],
      "execution_count": 3,
      "outputs": [
        {
          "output_type": "execute_result",
          "data": {
            "text/plain": [
              "[1, 'dua', True, (2+3j), (2+3j)]"
            ]
          },
          "metadata": {},
          "execution_count": 3
        }
      ]
    },
    {
      "cell_type": "code",
      "metadata": {
        "id": "uUthbgJj2MHM",
        "colab": {
          "base_uri": "https://localhost:8080/"
        },
        "outputId": "608fdf88-1a1f-4753-878e-e7dc77416d77"
      },
      "source": [
        "# {'KEY':'VALUE'}\n",
        "# Contoh Dictionary\n",
        "D1 = {1:'value','key':2}\n",
        "\n",
        "print(D1)"
      ],
      "execution_count": 4,
      "outputs": [
        {
          "output_type": "stream",
          "name": "stdout",
          "text": [
            "{1: 'value', 'key': 2}\n"
          ]
        }
      ]
    },
    {
      "cell_type": "code",
      "metadata": {
        "colab": {
          "base_uri": "https://localhost:8080/"
        },
        "id": "RCgZhpVs_lZ_",
        "outputId": "cfe1e9f7-deba-45c5-e1bb-35f9c454276e"
      },
      "source": [
        "# Buatlah Struktur data dictionary kalian sendiri\n",
        "D2 = {'empathy':'black on black','resonance':'make a wish'}\n",
        "\n",
        "print(D2)"
      ],
      "execution_count": 13,
      "outputs": [
        {
          "output_type": "stream",
          "name": "stdout",
          "text": [
            "{'empathy': 'black on black', 'resonance': 'make a wish'}\n"
          ]
        }
      ]
    },
    {
      "cell_type": "code",
      "metadata": {
        "id": "PDFzf1fr8bS5"
      },
      "source": [
        "D1[0]"
      ],
      "execution_count": null,
      "outputs": []
    },
    {
      "cell_type": "code",
      "metadata": {
        "colab": {
          "base_uri": "https://localhost:8080/"
        },
        "id": "W6B9AU7c8jlW",
        "outputId": "d186a556-3b23-493a-f2ab-9ff3770ef1f2"
      },
      "source": [
        "D1['key']"
      ],
      "execution_count": 6,
      "outputs": [
        {
          "output_type": "execute_result",
          "data": {
            "text/plain": [
              "2"
            ]
          },
          "metadata": {},
          "execution_count": 6
        }
      ]
    },
    {
      "cell_type": "code",
      "metadata": {
        "colab": {
          "base_uri": "https://localhost:8080/"
        },
        "id": "Fne2AjrX8uH4",
        "outputId": "e50714bc-64ef-4c98-c472-397fc8423fa7"
      },
      "source": [
        "# Memanggil elemen berdasarkan key\n",
        "print(\"D1['key'] = \",D1['key']);"
      ],
      "execution_count": 8,
      "outputs": [
        {
          "output_type": "stream",
          "name": "stdout",
          "text": [
            "D1['key'] =  2\n"
          ]
        }
      ]
    },
    {
      "cell_type": "markdown",
      "metadata": {
        "id": "XhoZ0yzL9aAi"
      },
      "source": [
        "Dictionary bukan termasuk dalam implementasi urutan(sequence), sehingga tidak bisa dipanggil dengan urutan indeks. Misalnya dalam contoh berikut dicoba dengan indeks 2, tetapi menghasilkan error (KeyError) karena tidak ada kunci (key)2:"
      ]
    },
    {
      "cell_type": "code",
      "metadata": {
        "id": "CYiScn939ZR7"
      },
      "source": [
        "# Nyobain Error\n",
        "print(\"D1[2]=\", D1[2]);"
      ],
      "execution_count": null,
      "outputs": []
    },
    {
      "cell_type": "code",
      "metadata": {
        "colab": {
          "base_uri": "https://localhost:8080/"
        },
        "id": "x9XBBCCADFL4",
        "outputId": "f94c4b51-fb0f-4815-b6a7-d28f3bf1074c"
      },
      "source": [
        "# Panggil salah satu key dan value pada dictionary yang kalian buat\n",
        "print(D2['empathy']);\n",
        "print(D2['resonance']);"
      ],
      "execution_count": 16,
      "outputs": [
        {
          "output_type": "stream",
          "name": "stdout",
          "text": [
            "black on black\n",
            "make a wish\n"
          ]
        }
      ]
    }
  ]
}