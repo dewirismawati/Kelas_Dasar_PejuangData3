{
  "nbformat": 4,
  "nbformat_minor": 0,
  "metadata": {
    "colab": {
      "name": "M2P2V3_Konversi_Struktur_Data.ipynb",
      "provenance": [],
      "collapsed_sections": []
    },
    "kernelspec": {
      "name": "python3",
      "display_name": "Python 3"
    },
    "language_info": {
      "name": "python"
    }
  },
  "cells": [
    {
      "cell_type": "markdown",
      "metadata": {
        "id": "PR4lwphZhvx_"
      },
      "source": [
        "# Konversi Struktur Data"
      ]
    },
    {
      "cell_type": "markdown",
      "metadata": {
        "id": "lQ7kXEl2h3mV"
      },
      "source": [
        "Fungsi untuk mengubah/konversi struktur data:\n",
        "\n",
        "a. `list()` : untuk mengubah menjadi list\n",
        "\n",
        "b. `tuple()`: untuk mengubah menjadi tuple\n",
        "\n",
        "c. `set()`  : untuk mengubah menjadi set\n",
        "\n",
        "d. `dict()` : untuk mengubah menjadi dictonary"
      ]
    },
    {
      "cell_type": "markdown",
      "metadata": {
        "id": "OjRxKErgixTS"
      },
      "source": [
        "# Mengkonversi tipe data list:"
      ]
    },
    {
      "cell_type": "code",
      "metadata": {
        "id": "M28dB14ihg3H"
      },
      "source": [
        "# Membuat 2 list\n",
        "L1 = [1,2,3,4]\n",
        "L2 = [5,6,7,8]"
      ],
      "execution_count": null,
      "outputs": []
    },
    {
      "cell_type": "code",
      "metadata": {
        "colab": {
          "base_uri": "https://localhost:8080/"
        },
        "id": "48oq0htcjWU6",
        "outputId": "6f3a77e9-289e-497e-f1dc-06b99d1005d2"
      },
      "source": [
        "# Mengkonversi struktur data list\n",
        "k_tuple = tuple(L1)\n",
        "k_set   = set(L2)\n",
        "k_dict  = dict(zip(L1,L2))\n",
        "# Melihat data yang telah dikonversi\n",
        "print(k_tuple)\n",
        "print(k_set)\n",
        "print(k_dict)"
      ],
      "execution_count": null,
      "outputs": [
        {
          "output_type": "stream",
          "name": "stdout",
          "text": [
            "(1, 2, 3, 4)\n",
            "{8, 5, 6, 7}\n",
            "{1: 5, 2: 6, 3: 7, 4: 8}\n"
          ]
        }
      ]
    },
    {
      "cell_type": "markdown",
      "metadata": {
        "id": "UuJgwZYYhtCJ"
      },
      "source": [
        "# Mengkonversi tipe data tuple"
      ]
    },
    {
      "cell_type": "code",
      "metadata": {
        "id": "BWjAiFHykztf"
      },
      "source": [
        "# Membuat 2 tuple\n",
        "T1 = (1,2,3,4)\n",
        "T2 = (5,6,7,8)"
      ],
      "execution_count": null,
      "outputs": []
    },
    {
      "cell_type": "code",
      "metadata": {
        "colab": {
          "base_uri": "https://localhost:8080/"
        },
        "id": "3r14dLTtk-vE",
        "outputId": "99d178d1-1bd1-45ad-baf0-f9d4a6e8c582"
      },
      "source": [
        "# Mengkonversi struktur data tuple\n",
        "k_list = list(T1)\n",
        "k_set  = set(T2) \n",
        "k_dict = dict(zip(T1,T1))\n",
        "# Melihat data yang telah dikonversi\n",
        "print(k_list)\n",
        "print(k_set)\n",
        "print(k_dict)"
      ],
      "execution_count": null,
      "outputs": [
        {
          "output_type": "stream",
          "name": "stdout",
          "text": [
            "[1, 2, 3, 4]\n",
            "{8, 5, 6, 7}\n",
            "{1: 1, 2: 2, 3: 3, 4: 4}\n"
          ]
        }
      ]
    },
    {
      "cell_type": "markdown",
      "metadata": {
        "id": "XqnBZqaDmEpb"
      },
      "source": [
        "# Mengkonversi Tipe data set"
      ]
    },
    {
      "cell_type": "code",
      "metadata": {
        "id": "Lr4veVtMmJUK"
      },
      "source": [
        "# Membuat 2 set\n",
        "S1 = {1,2,3,4}\n",
        "S2 = {5,6,7,8}"
      ],
      "execution_count": null,
      "outputs": []
    },
    {
      "cell_type": "code",
      "metadata": {
        "colab": {
          "base_uri": "https://localhost:8080/"
        },
        "id": "t0csqqoQmZCf",
        "outputId": "f2fff740-4ded-4301-dbf3-b21031438677"
      },
      "source": [
        "# Mengkonversi struktur data set\n",
        "k_list  = list(S1)\n",
        "k_tuple = tuple(S2)\n",
        "k_dict  = dict(zip(S1,S2))\n",
        "# Melihat data yang telah diubah\n",
        "print(k_list)\n",
        "print(k_tuple)\n",
        "print(k_dict)"
      ],
      "execution_count": null,
      "outputs": [
        {
          "output_type": "stream",
          "name": "stdout",
          "text": [
            "[1, 2, 3, 4]\n",
            "(8, 5, 6, 7)\n",
            "{1: 8, 2: 5, 3: 6, 4: 7}\n"
          ]
        }
      ]
    },
    {
      "cell_type": "markdown",
      "metadata": {
        "id": "ch4VRx7CnK_d"
      },
      "source": [
        "# Mengkonversi tipe data dictionary"
      ]
    },
    {
      "cell_type": "code",
      "metadata": {
        "id": "ECAKdowDnJ3f"
      },
      "source": [
        "# Membuat dictionary\n",
        "D = {\n",
        "    \"nama\":\"Andi\",\n",
        "     \"alamat\":\"Yogyakarta\",\n",
        "     \"umur\": 20\n",
        "}"
      ],
      "execution_count": null,
      "outputs": []
    },
    {
      "cell_type": "code",
      "metadata": {
        "colab": {
          "base_uri": "https://localhost:8080/"
        },
        "id": "9MD_LoZ3n2cE",
        "outputId": "81686598-37ed-4352-844f-7abf1b1a2e2b"
      },
      "source": [
        "# Mengkonversi struktur data dictionary dari key dan value-nya\n",
        "k_list  = list(D.keys())\n",
        "k_tuple = tuple(D.values())\n",
        "k_set   = set(D.keys())\n",
        "# Melihat data yang telah dikonversi\n",
        "print(k_list)\n",
        "print(k_tuple)\n",
        "print(k_set)"
      ],
      "execution_count": null,
      "outputs": [
        {
          "output_type": "stream",
          "name": "stdout",
          "text": [
            "['nama', 'alamat', 'umur']\n",
            "('Andi', 'Yogyakarta', 20)\n",
            "{'nama', 'alamat', 'umur'}\n"
          ]
        }
      ]
    },
    {
      "cell_type": "markdown",
      "metadata": {
        "id": "7IU16HqJpIY3"
      },
      "source": [
        "# Latihan"
      ]
    },
    {
      "cell_type": "code",
      "metadata": {
        "colab": {
          "base_uri": "https://localhost:8080/"
        },
        "id": "Y1AgLkslpMBA",
        "outputId": "7d431106-8f81-416d-c14c-fabaed720117"
      },
      "source": [
        "# Lakukan konversi struktur data yang kalian buat pada notebook-notebook\n",
        "#sebelumnya menjadi list, tuple, set, dan dictionary (masing-masing satu)\n",
        "\n",
        "# Struktur data List\n",
        "Repackage1 = [\"hot sauce\",\"hello future\",\"life is still going on\",3]\n",
        "Comeback127 = [\"sticker\",\"lemonade\",\"road trip\",\"a\"]\n",
        "print(type(Repackage1))\n",
        "print(type(Comeback127))\n",
        "print(\"-\"*20)\n",
        "# Mengkonversi struktur data List\n",
        "k_tuple = tuple(Repackage1)\n",
        "k_set   = set(Comeback127)\n",
        "k_dict  = dict(zip(Comeback127,Repackage1))\n",
        "# Melihat data yang telah di konversi\n",
        "print(k_tuple)\n",
        "print(k_set)\n",
        "print(k_dict)\n"
      ],
      "execution_count": null,
      "outputs": [
        {
          "output_type": "stream",
          "name": "stdout",
          "text": [
            "<class 'list'>\n",
            "<class 'list'>\n",
            "--------------------\n",
            "('hot sauce', 'hello future', 'life is still going on', 3)\n",
            "{'road trip', 'lemonade', 'a', 'sticker'}\n",
            "{'sticker': 'hot sauce', 'lemonade': 'hello future', 'road trip': 'life is still going on', 'a': 3}\n"
          ]
        }
      ]
    },
    {
      "cell_type": "code",
      "metadata": {
        "colab": {
          "base_uri": "https://localhost:8080/"
        },
        "id": "Yu8v7sT-LecM",
        "outputId": "500fc6ea-746c-4e17-b9ea-8eb80852cb10"
      },
      "source": [
        "# Struktur data Tuple\n",
        "BE = (\"life goes on\",\"blue & gray\",\"stay\")\n",
        "LYS = (\"answer\",\"her\",\"tear\")\n",
        "print(type(BE))\n",
        "print(type(LYS))\n",
        "print(\"-\"*20)\n",
        "# Mengkonversi struktur data Tuple\n",
        "k_list = list(BE)\n",
        "k_set  = set(LYS)\n",
        "k_dict = dict(zip(BE,LYS))\n",
        "# Melihat data yang telah di konversi\n",
        "print(k_list)\n",
        "print(k_set)\n",
        "print(k_dict)"
      ],
      "execution_count": null,
      "outputs": [
        {
          "output_type": "stream",
          "name": "stdout",
          "text": [
            "<class 'tuple'>\n",
            "<class 'tuple'>\n",
            "--------------------\n",
            "['life goes on', 'blue & gray', 'stay']\n",
            "{'tear', 'answer', 'her'}\n",
            "{'life goes on': 'answer', 'blue & gray': 'her', 'stay': 'tear'}\n"
          ]
        }
      ]
    },
    {
      "cell_type": "code",
      "metadata": {
        "colab": {
          "base_uri": "https://localhost:8080/"
        },
        "id": "fgp5oizON57K",
        "outputId": "546e5c13-b90a-48b9-c12e-654b86143c60"
      },
      "source": [
        "# Struktur data Set\n",
        "S2 = {1,\"stay\",True,1+2j}\n",
        "S3 = {\"ugh\",2,\"filter\",0}\n",
        "print(type(S2))\n",
        "print(type(S3))\n",
        "print(\"-\"*20)\n",
        "# Mengkonversi struktur data Set\n",
        "k_list  = list(S2)\n",
        "k_tuple = tuple(S3)\n",
        "k_dict  = dict(zip(S2,S3))\n",
        "# Melihat data yang telah di konversi\n",
        "print(k_list)\n",
        "print(k_tuple)\n",
        "print(k_dict)"
      ],
      "execution_count": null,
      "outputs": [
        {
          "output_type": "stream",
          "name": "stdout",
          "text": [
            "<class 'set'>\n",
            "<class 'set'>\n",
            "--------------------\n",
            "[1, 'stay', (1+2j)]\n",
            "(0, 'ugh', 2, 'filter')\n",
            "{1: 0, 'stay': 'ugh', (1+2j): 2}\n"
          ]
        }
      ]
    },
    {
      "cell_type": "code",
      "metadata": {
        "colab": {
          "base_uri": "https://localhost:8080/"
        },
        "id": "nb9aMEv3PeYz",
        "outputId": "2a471c28-abf7-477c-c763-5481153f5920"
      },
      "source": [
        "# Struktur data Dictionary\n",
        "D2 = {'empathy':'black on black',\n",
        "      'resonance':'make a wish',\n",
        "      'cherry bomb':'whiplash'\n",
        "      }\n",
        "print(type(D2))\n",
        "print('-'*20)\n",
        "# Mengkonversi struktur data dictionary dari key dan value-nya\n",
        "k_list  = list(D2.keys())\n",
        "k_tuple = tuple(D2.values())\n",
        "k_set   = set(D2.keys())\n",
        "# Melihat data yang telah dikonversi\n",
        "print(k_list)\n",
        "print(k_tuple)\n",
        "print(k_set)"
      ],
      "execution_count": null,
      "outputs": [
        {
          "output_type": "stream",
          "name": "stdout",
          "text": [
            "<class 'dict'>\n",
            "--------------------\n",
            "['empathy', 'resonance', 'cherry bomb']\n",
            "('black on black', 'make a wish', 'whiplash')\n",
            "{'empathy', 'resonance', 'cherry bomb'}\n"
          ]
        }
      ]
    }
  ]
}