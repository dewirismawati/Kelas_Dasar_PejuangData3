{
  "nbformat": 4,
  "nbformat_minor": 0,
  "metadata": {
    "colab": {
      "name": "M2P2V3_Konversi_Struktur_Data.ipynb",
      "provenance": [],
      "collapsed_sections": []
    },
    "kernelspec": {
      "name": "python3",
      "display_name": "Python 3"
    },
    "language_info": {
      "name": "python"
    }
  },
  "cells": [
    {
      "cell_type": "markdown",
      "metadata": {
        "id": "PR4lwphZhvx_"
      },
      "source": [
        "# Konversi Struktur Data"
      ]
    },
    {
      "cell_type": "markdown",
      "metadata": {
        "id": "lQ7kXEl2h3mV"
      },
      "source": [
        "Fungsi untuk mengubah/konversi struktur data:\n",
        "\n",
        "a. `list()` : untuk mengubah menjadi list\n",
        "\n",
        "b. `tuple()`: untuk mengubah menjadi tuple\n",
        "\n",
        "c. `set()`  : untuk mengubah menjadi set\n",
        "\n",
        "d. `dict()` : untuk mengubah menjadi dictonary"
      ]
    },
    {
      "cell_type": "markdown",
      "metadata": {
        "id": "OjRxKErgixTS"
      },
      "source": [
        "# Mengkonversi tipe data list:"
      ]
    },
    {
      "cell_type": "code",
      "metadata": {
        "id": "M28dB14ihg3H"
      },
      "source": [
        "# Membuat 2 list\n",
        "L1 = [1,2,3,4]\n",
        "L2 = [5,6,7,8]"
      ],
      "execution_count": 1,
      "outputs": []
    },
    {
      "cell_type": "code",
      "metadata": {
        "colab": {
          "base_uri": "https://localhost:8080/"
        },
        "id": "48oq0htcjWU6",
        "outputId": "d435f9bf-50fc-4451-9f75-78a8691295c4"
      },
      "source": [
        "# Mengkonversi struktur data list\n",
        "k_tuple = tuple(L1)\n",
        "k_set   = set(L2)\n",
        "k_dict  = dict(zip(L1,L2))\n",
        "# Melihat data yang telah dikonversi\n",
        "print(k_tuple)\n",
        "print(k_set)\n",
        "print(k_dict)"
      ],
      "execution_count": 5,
      "outputs": [
        {
          "output_type": "stream",
          "name": "stdout",
          "text": [
            "(1, 2, 3, 4)\n",
            "{8, 5, 6, 7}\n",
            "{1: 5, 2: 6, 3: 7, 4: 8}\n"
          ]
        }
      ]
    },
    {
      "cell_type": "markdown",
      "metadata": {
        "id": "UuJgwZYYhtCJ"
      },
      "source": [
        "# Mengkonversi tipe data tuple"
      ]
    },
    {
      "cell_type": "code",
      "metadata": {
        "id": "BWjAiFHykztf"
      },
      "source": [
        "# Membuat 2 tuple\n",
        "T1 = (1,2,3,4)\n",
        "T2 = (5,6,7,8)"
      ],
      "execution_count": 10,
      "outputs": []
    },
    {
      "cell_type": "code",
      "metadata": {
        "colab": {
          "base_uri": "https://localhost:8080/"
        },
        "id": "3r14dLTtk-vE",
        "outputId": "0e0c00a2-01ed-4d3f-efb4-d563fe65dc90"
      },
      "source": [
        "# Mengkonversi struktur data tuple\n",
        "k_list = list(T1)\n",
        "k_set  = set(T2) \n",
        "k_dict = dict(zip(T1,T1))\n",
        "# Melihat data yang telah dikonversi\n",
        "print(k_list)\n",
        "print(k_set)\n",
        "print(k_dict)"
      ],
      "execution_count": 11,
      "outputs": [
        {
          "output_type": "stream",
          "name": "stdout",
          "text": [
            "[1, 2, 3, 4]\n",
            "{8, 5, 6, 7}\n",
            "{1: 1, 2: 2, 3: 3, 4: 4}\n"
          ]
        }
      ]
    },
    {
      "cell_type": "markdown",
      "metadata": {
        "id": "XqnBZqaDmEpb"
      },
      "source": [
        "# Mengkonversi Tipe data set"
      ]
    },
    {
      "cell_type": "code",
      "metadata": {
        "id": "Lr4veVtMmJUK"
      },
      "source": [
        "# Membuat 2 set\n",
        "S1 = {1,2,3,4}\n",
        "S2 = {5,6,7,8}"
      ],
      "execution_count": 5,
      "outputs": []
    },
    {
      "cell_type": "code",
      "metadata": {
        "colab": {
          "base_uri": "https://localhost:8080/"
        },
        "id": "t0csqqoQmZCf",
        "outputId": "3f5e4b66-5c5f-43ac-a869-6e04fe166a8b"
      },
      "source": [
        "# Mengkonversi struktur data set\n",
        "k_list  = list(S1)\n",
        "k_tuple = tuple(S2)\n",
        "k_dict  = dict(zip(S1,S2))\n",
        "# Melihat data yang telah diubah\n",
        "print(k_list)\n",
        "print(k_tuple)\n",
        "print(k_dict)"
      ],
      "execution_count": 13,
      "outputs": [
        {
          "output_type": "stream",
          "name": "stdout",
          "text": [
            "[1, 2, 3, 4]\n",
            "(8, 5, 6, 7)\n",
            "{1: 8, 2: 5, 3: 6, 4: 7}\n"
          ]
        }
      ]
    },
    {
      "cell_type": "markdown",
      "metadata": {
        "id": "ch4VRx7CnK_d"
      },
      "source": [
        "# Mengkonversi tipe data dictionary"
      ]
    },
    {
      "cell_type": "code",
      "metadata": {
        "id": "ECAKdowDnJ3f"
      },
      "source": [
        "# Membuat dictionary\n",
        "D = {\n",
        "    \"nama\":\"Andi\",\n",
        "     \"alamat\":\"Yogyakarta\",\n",
        "     \"umur\": 20\n",
        "}"
      ],
      "execution_count": 7,
      "outputs": []
    },
    {
      "cell_type": "code",
      "metadata": {
        "id": "9MD_LoZ3n2cE"
      },
      "source": [
        "# Mengkonversi struktur data dictionary dari key dan value-nya\n",
        "k_list  = list(D.keys())\n",
        "k_tuple = tuple(D.values())\n",
        "k_set   = set(D.keys())\n",
        "# Melihat data yang telah dikonversi\n",
        "print(k_list)\n",
        "print(k_tuple)\n",
        "print(k_set)"
      ],
      "execution_count": null,
      "outputs": []
    },
    {
      "cell_type": "markdown",
      "metadata": {
        "id": "7IU16HqJpIY3"
      },
      "source": [
        "# Latihan"
      ]
    },
    {
      "cell_type": "code",
      "metadata": {
        "id": "Y1AgLkslpMBA"
      },
      "source": [
        "# Lakukan konversi struktur data yang kalian buat pada notebook-notebook\n",
        "#sebelumnya menjadi list, tuple, set, dan dictionary (masing-masing satu)\n",
        "\n",
        "# Struktur data List\n",
        "Repackage1 = [\"hot sauce\",\"hello future\",\"life is still going on\",3]\n",
        "Comeback127 = [\"sticker\",\"lemonade\",\"road trip\",\"a\"]\n",
        "print(type(Repackage1))\n",
        "print(type(Comeback127))\n",
        "print(\"-\"*20)\n",
        "# Mengkonversi struktur data List\n",
        "k_tuple = tuple(Repackage1)\n",
        "k_set   = set(Comeback127)\n",
        "k_dict  = dict(zip(Comeback127,Repackage1))\n",
        "# Melihat data yang telah di konversi\n",
        "print(k_tuple)\n",
        "print(k_set)\n",
        "print(k_dict)\n"
      ],
      "execution_count": null,
      "outputs": []
    },
    {
      "cell_type": "code",
      "metadata": {
        "id": "Yu8v7sT-LecM"
      },
      "source": [
        "# Struktur data Tuple\n",
        "BE = (\"life goes on\",\"blue & gray\",\"stay\")\n",
        "LYS = (\"answer\",\"her\",\"tear\")\n",
        "print(type(BE))\n",
        "print(type(LYS))\n",
        "print(\"-\"*20)\n",
        "# Mengkonversi struktur data Tuple\n",
        "k_list = list(BE)\n",
        "k_set  = set(LYS)\n",
        "k_dict = dict(zip(BE,LYS))\n",
        "# Melihat data yang telah di konversi\n",
        "print(k_list)\n",
        "print(k_set)\n",
        "print(k_dict)"
      ],
      "execution_count": null,
      "outputs": []
    },
    {
      "cell_type": "code",
      "metadata": {
        "id": "fgp5oizON57K"
      },
      "source": [
        "# Struktur data Set\n",
        "S2 = {1,\"stay\",True,1+2j}\n",
        "S3 = {\"ugh\",2,\"filter\",0}\n",
        "print(type(S2))\n",
        "print(type(S3))\n",
        "print(\"-\"*20)\n",
        "# Mengkonversi struktur data Set\n",
        "k_list  = list(S2)\n",
        "k_tuple = tuple(S3)\n",
        "k_dict  = dict(zip(S2,S3))\n",
        "# Melihat data yang telah di konversi\n",
        "print(k_list)\n",
        "print(k_tuple)\n",
        "print(k_dict)"
      ],
      "execution_count": null,
      "outputs": []
    },
    {
      "cell_type": "code",
      "metadata": {
        "colab": {
          "base_uri": "https://localhost:8080/"
        },
        "id": "nb9aMEv3PeYz",
        "outputId": "3bafecaf-8f73-4c2b-c1b3-5804b5bb7696"
      },
      "source": [
        "# Struktur data Dictionary\n",
        "D2 = {'empathy':'black on black',\n",
        "      'resonance':'make a wish',\n",
        "      'cherry bomb':'whiplash'\n",
        "      }\n",
        "print(type(D2))\n",
        "print('-'*20)\n",
        "# Mengkonversi struktur data dictionary dari key dan value-nya\n",
        "k_list  = list(D2.keys())\n",
        "k_tuple = tuple(D2.values())\n",
        "k_set   = set(D2.keys())\n",
        "# Melihat data yang telah dikonversi\n",
        "print(k_list)\n",
        "print(k_tuple)\n",
        "print(k_set)"
      ],
      "execution_count": 15,
      "outputs": [
        {
          "output_type": "stream",
          "name": "stdout",
          "text": [
            "<class 'dict'>\n",
            "--------------------\n",
            "['empathy', 'resonance', 'cherry bomb']\n",
            "('black on black', 'make a wish', 'whiplash')\n",
            "{'empathy', 'cherry bomb', 'resonance'}\n"
          ]
        }
      ]
    }
  ]
}